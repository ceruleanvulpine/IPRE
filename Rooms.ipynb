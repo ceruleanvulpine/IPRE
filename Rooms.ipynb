{
 "cells": [
  {
   "cell_type": "markdown",
   "metadata": {},
   "source": [
    "**ROOM/STATE DATA FORMAT**\n",
    "\n",
    "(subject to changes?)\n",
    "\n",
    "Every room/state stored in memory has a label pointing to the beginning of its data block, and variables stored at regular distances relative to that top. \n",
    "\n",
    "For all rooms:\n",
    "- Label + 0: which quality (HP/stats) the room changes (0 for none) [Note: Could this field also be used to change variables, e.g. whether you have a sword?]\n",
    "- Label + 1: amount of quality change\n",
    "- Label + 2: type of state (0 for user-input directed, 1 for dice-directed, 2 for variable-directed)\n",
    "\n",
    "Then if user-input room: \n",
    "- Label + 3, 4, 5: addresses of destinations for 1, 2, and 3 inputs\n",
    "- Label + 6: Description string in compressed format\n",
    "\n",
    "Or if dice room: \n",
    "- Label + 3: Stat to check\n",
    "- Label + 4: Difficulty of check\n",
    "- Label + 5: Destination if success\n",
    "- Label + 6: Destination if failure\n",
    "\n",
    "Or if variable room:\n",
    "- Label + 3: Address of variable to check \n",
    "- Label + 4: Value of that variable that counts as a success\n",
    "- Label + 5: Destination if success\n",
    "- Label + 6: Destination if failure"
   ]
  },
  {
   "cell_type": "code",
   "execution_count": null,
   "metadata": {
    "collapsed": true
   },
   "outputs": [],
   "source": [
    ";; Room templates\n",
    "\n",
    "ROOM_UINPUT:   \n",
    "    .FILL #0 ;; Which quality (stat/HP) it changes: None\n",
    "    .FILL #0 ;; Amount of change: None\n",
    "    .FILL #0 ;; 0: Based on user input\n",
    "    .FILL A2 ;; Choice 1\n",
    "    .FILL A3 ;; Choice 2\n",
    "    .FILL END ;; Choice 3\n",
    "    .STRINGC \"Room text\"\n",
    "    \n",
    "ROOM_DICE: \n",
    "    .FILL #0 ;; Which quality (stat/HP) it changes: None\n",
    "    .FILL #0 ;; Amount of change: None\n",
    "    .FILL #1 ;; 1: Based on dice roll\n",
    "    .FILL #4 ;; Stat for dice roll: Wisdom\n",
    "    ;; 1 HP, 2 CHA, 3 VIT, 4 WIS\n",
    "    .FILL #8 ;; Difficulty of check\n",
    "    .FILL A5 ;; Destination if success\n",
    "    .FILL A3 ;; Destination if failure\n",
    "    \n",
    "ROOM_VARIABLE:\n",
    "    .FILL #0 ;; Quality changed: None\n",
    "    .FILL #0 ;; Amount of change: None\n",
    "    .FILL #2 ;; 2: Based on variable\n",
    "    .FILL SWD ;; VAR_ADDRESS ;; What variable to check\n",
    "    .FILL #1 ;; VALUE       ;; What value counts as a success\n",
    "    .FILL ROOM_UINPUT ;; Destination if success\n",
    "    .FILL ROOM_RANDOM ;; Destination if failure"
   ]
  },
  {
   "cell_type": "code",
   "execution_count": null,
   "metadata": {
    "collapsed": true
   },
   "outputs": [],
   "source": [
    ";; Rooms data\n",
    "A1: \n",
    "    .FILL #0 ;; Which quality (stat/HP) it changes: None\n",
    "    .FILL #0 ;; Amount of change: None\n",
    "    .FILL #0 ;; 0: Based on user input\n",
    "    .FILL A2 ;; Choice 1\n",
    "    .FILL A3 ;; Choice 2\n",
    "    .FILL END ;; Choice 3\n",
    "    .STRINGC \"You are in your room in Brecon! Your paper is written, your teeth are brushed, and your bag is packed. All you need to do is eat lunch, print your paper, and get to class on time to turn it in. As you're leaving your room you see a fencer, notorious for being chatty. Would you like to:\\n\"\n",
    "    \n",
    "A2: \n",
    "    .FILL #0 ;; Which quality (stat/HP) it changes: None\n",
    "    .FILL #0 ;; Amount of change: None\n",
    "    .FILL #1 ;; 1: Based on user input\n",
    "    .FILL #4 ;; Stat for dice roll: Wisdom\n",
    "    .FILL #8 ;; Difficulty of check\n",
    "    .FILL A5 ;; Destination if success\n",
    "    .FILL A3 ;; Destination if failure\n",
    "    \n",
    "A3: \n",
    "    .FILL #0 ;; Which quality (stat/HP) it changes: None\n",
    "    .FILL #0 ;; Amount of change: None\n",
    "    .FILL #1 ;; 1: Based on dice roll\n",
    "    .FILL #2 ;; Stat for dice roll: Charisma\n",
    "    ;; 1 HP, 2 CHA, 3 VIT, 4 WIS\n",
    "    .FILL #8 ;; Difficulty of check\n",
    "    .FILL A6 ;; Destination if success\n",
    "    .FILL A4 ;; Destination if failure\n",
    "    "
   ]
  }
 ],
 "metadata": {
  "kernelspec": {
   "display_name": "Calysto LC3",
   "language": "asm",
   "name": "calysto_lc3"
  },
  "language_info": {
   "file_extension": ".asm",
   "mimetype": "text/x-gas",
   "name": "gas"
  }
 },
 "nbformat": 4,
 "nbformat_minor": 2
}
