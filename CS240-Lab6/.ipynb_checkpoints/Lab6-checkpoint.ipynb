{
 "cells": [
  {
   "cell_type": "markdown",
   "metadata": {},
   "source": [
    "# CS240: Computer Organization\n",
    "\n",
    "## Blank, Fall 2017\n",
    "\n",
    "### Assignment #6: Assembly Language Infrastructure, The Call Stack\n",
    "\n",
    "This assignment is designed to:\n",
    "\n",
    "* focus on the call stack\n",
    "* implement call stack for general use in the LC-3\n",
    "* understand limitations and utility of the call stack\n",
    "\n",
    "**Assignment**\n",
    "\n",
    "Your mission is to:\n",
    "\n",
    "* design a call stack that will allow:\n",
    "    * saving the (all/most) of the registers\n",
    "    * calling a subroutine\n",
    "    * optionally having a return value(s)\n",
    "    * restoring the registers\n",
    "* demonstrate that your system works by:\n",
    "    * calling a recursive subroutine\n",
    "    * calling a subroutine, which calls a subroutine\n",
    "    * you can use the randomness subroutine, or other subroutines from the book\n",
    "\n",
    "**Due**: one week from lab.\n",
    "\n",
    "**Grading criteria**:\n",
    "\n",
    "* Correctness of answer: 50%\n",
    "* Explanation and Reflection: 50%\n",
    "\n",
    "*Enter the names of the project members and project title in the next cell:*"
   ]
  },
  {
   "cell_type": "markdown",
   "metadata": {
    "deletable": false,
    "nbgrader": {
     "checksum": "a52e1081358022ca81559537a2115df8",
     "grade": true,
     "grade_id": "cell-4b8c0766cc54d9a4",
     "locked": false,
     "points": 5,
     "schema_version": 1,
     "solution": true
    }
   },
   "source": [
    "YOUR ANSWER HERE"
   ]
  },
  {
   "cell_type": "markdown",
   "metadata": {},
   "source": [
    "Enter your assembly code in the next cells. Add as many cells as you would like to explain how your code works and to explain it. "
   ]
  },
  {
   "cell_type": "code",
   "execution_count": null,
   "metadata": {
    "collapsed": true,
    "deletable": false,
    "nbgrader": {
     "checksum": "bf346ba8242076919833ea5777baf4fb",
     "grade": true,
     "grade_id": "cell-f83befc0e7eb79b4",
     "locked": false,
     "points": 50,
     "schema_version": 1,
     "solution": true
    }
   },
   "outputs": [],
   "source": []
  },
  {
   "cell_type": "markdown",
   "metadata": {},
   "source": [
    "# Reflection\n",
    "\n",
    "The reflection cell is the most import cell in this lab... in all labs. In your reflection, you should:\n",
    "\n",
    "* Reflect! Think and comment on what you have learned this lab, and this week. \n",
    "* Connect the ideas onto your own life, and experiences.\n",
    "* Comment on what you found challenging, and what you found intuitive.\n",
    "\n",
    "Put your reflections in the cell below. You should write more than a paragraph. Remember:\n",
    "\n",
    "* don't indent paragraphs\n",
    "* use Markdown highlighting \n",
    "* use the spell checker"
   ]
  },
  {
   "cell_type": "markdown",
   "metadata": {
    "deletable": false,
    "nbgrader": {
     "checksum": "a6caefd820bdf5303d7ef5d41eabfdf8",
     "grade": true,
     "grade_id": "cell-bf53bd15f365d85d",
     "locked": false,
     "points": 45,
     "schema_version": 1,
     "solution": true
    }
   },
   "source": [
    "YOUR ANSWER HERE"
   ]
  }
 ],
 "metadata": {
  "kernelspec": {
   "display_name": "Calysto LC3",
   "language": "asm",
   "name": "calysto_lc3"
  },
  "language_info": {
   "file_extension": ".asm",
   "mimetype": "text/x-gas",
   "name": "gas"
  }
 },
 "nbformat": 4,
 "nbformat_minor": 1
}
