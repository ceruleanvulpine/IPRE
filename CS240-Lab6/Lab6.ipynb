{
 "cells": [
  {
   "cell_type": "markdown",
   "metadata": {},
   "source": [
    "# CS240: Computer Organization\n",
    "\n",
    "## Blank, Fall 2017\n",
    "\n",
    "### Assignment #6: Assembly Language Infrastructure, The Call Stack\n",
    "\n",
    "This assignment is designed to:\n",
    "\n",
    "* focus on the call stack\n",
    "* implement call stack for general use in the LC-3\n",
    "* understand limitations and utility of the call stack\n",
    "\n",
    "**Assignment**\n",
    "\n",
    "Your mission is to:\n",
    "\n",
    "* design a call stack that will allow:\n",
    "    * saving the (all/most) of the registers\n",
    "    * calling a subroutine\n",
    "    * optionally having a return value(s)\n",
    "    * restoring the registers\n",
    "* demonstrate that your system works by:\n",
    "    * calling a recursive subroutine\n",
    "    * calling a subroutine, which calls a subroutine\n",
    "    * you can use the randomness subroutine, or other subroutines from the book\n",
    "\n",
    "**Due**: one week from lab.\n",
    "\n",
    "**Grading criteria**:\n",
    "\n",
    "* Correctness of answer: 50%\n",
    "* Explanation and Reflection: 50%\n",
    "\n",
    "*Enter the names of the project members and project title in the next cell:*"
   ]
  },
  {
   "cell_type": "markdown",
   "metadata": {
    "deletable": false,
    "nbgrader": {
     "checksum": "a52e1081358022ca81559537a2115df8",
     "grade": true,
     "grade_id": "cell-4b8c0766cc54d9a4",
     "locked": false,
     "points": 5,
     "schema_version": 1,
     "solution": true
    }
   },
   "source": [
    "Anita Brown, Lillian Whithaus, Ruby Malusa\n",
    "\n",
    "Mysterious fantasy text adventure"
   ]
  },
  {
   "cell_type": "markdown",
   "metadata": {},
   "source": [
    "Enter your assembly code in the next cells. Add as many cells as you would like to explain how your code works and to explain it. "
   ]
  },
  {
   "cell_type": "markdown",
   "metadata": {},
   "source": [
    "**Somewhere, we setup the stack by doing this:**"
   ]
  },
  {
   "cell_type": "code",
   "execution_count": null,
   "metadata": {
    "collapsed": true
   },
   "outputs": [],
   "source": [
    ";; Setup for the stack \n",
    "Top: .FILL Stack\n",
    "Stack:  .BLKW #100"
   ]
  },
  {
   "cell_type": "markdown",
   "metadata": {},
   "source": [
    "**Just before we call a function, we save all the registers to the stack, incrementing it each time:**"
   ]
  },
  {
   "cell_type": "code",
   "execution_count": null,
   "metadata": {
    "collapsed": true,
    "deletable": false,
    "nbgrader": {
     "checksum": "bf346ba8242076919833ea5777baf4fb",
     "grade": true,
     "grade_id": "cell-f83befc0e7eb79b4",
     "locked": false,
     "points": 50,
     "schema_version": 1,
     "solution": true
    }
   },
   "outputs": [],
   "source": [
    "        LD R6, Top\n",
    "        STR R0, R6, #0      ;; Save R0 to Stack\n",
    "        ADD R6, R6, #1      ;; Increment Stack\n",
    "        STR R1, R6, #0      ;; Save R1 to Stack\n",
    "        ADD R6, R6, #1      ;; Increment Stack\n",
    "        STR R2, R6, #0      ;; Save R2 to Stack\n",
    "        ADD R6, R6, #1      ;; Increment Stack\n",
    "        STR R3, R6, #0      ;; Save R3 to Stack\n",
    "        ADD R6, R6, #1      ;; Increment Stack\n",
    "        STR R4, R6, #0      ;; Save R4 to Stack\n",
    "        ADD R6, R6, #1      ;; Increment Stack\n",
    "        STR R5, R6, #0      ;; Save R5 to Stack\n",
    "        ADD R6, R6, #1      ;; Increment Stack\n",
    "        STR R7, R6, #0      ;; Save R7 to Stack\n",
    "        ADD R6, R6, #1      ;; Increment Stack\n",
    "        ST R6, Top"
   ]
  },
  {
   "cell_type": "markdown",
   "metadata": {},
   "source": [
    "**Just before we return from the function, we restore the registers FROM the stack, this time decrementing:**"
   ]
  },
  {
   "cell_type": "code",
   "execution_count": null,
   "metadata": {
    "collapsed": true
   },
   "outputs": [],
   "source": [
    "POP:    ADD R6, R6, #-1     ;; Decrement Stack\n",
    "        LDR R7, R6, #0      ;; Load Stack into R7\n",
    "        ADD R6, R6, #-1     ;; Decrement Stack\n",
    "        LDR R5, R6, #0      ;; Load Stack into R5\n",
    "        ADD R6, R6, #-1     ;; Decrement Stack\n",
    "        LDR R4, R6, #0      ;; Load Stack into R4\n",
    "        ADD R6, R6, #-1     ;; Decrement Stack\n",
    "        LDR R3, R6, #0      ;; Load Stack into R3\n",
    "        ADD R6, R6, #-1     ;; Decrement Stack\n",
    "        LDR R2, R6, #0      ;; Load Stack into R2\n",
    "        ADD R6, R6, #-1     ;; Decrement Stack\n",
    "        LDR R1, R6, #0      ;; Load Stack into R1\n",
    "        ADD R6, R6, #-1     ;; Decrement Stack\n",
    "        LDR R0, R6, #0      ;; Load Stack into R0"
   ]
  },
  {
   "cell_type": "markdown",
   "metadata": {},
   "source": [
    "# Reflection\n",
    "\n",
    "The reflection cell is the most import cell in this lab... in all labs. In your reflection, you should:\n",
    "\n",
    "* Reflect! Think and comment on what you have learned this lab, and this week. \n",
    "* Connect the ideas onto your own life, and experiences.\n",
    "* Comment on what you found challenging, and what you found intuitive.\n",
    "\n",
    "Put your reflections in the cell below. You should write more than a paragraph. Remember:\n",
    "\n",
    "* don't indent paragraphs\n",
    "* use Markdown highlighting \n",
    "* use the spell checker"
   ]
  },
  {
   "cell_type": "markdown",
   "metadata": {
    "deletable": false,
    "nbgrader": {
     "checksum": "a6caefd820bdf5303d7ef5d41eabfdf8",
     "grade": true,
     "grade_id": "cell-bf53bd15f365d85d",
     "locked": false,
     "points": 45,
     "schema_version": 1,
     "solution": true
    }
   },
   "source": [
    "YOUR ANSWER HERE"
   ]
  }
 ],
 "metadata": {
  "kernelspec": {
   "display_name": "Calysto LC3",
   "language": "asm",
   "name": "calysto_lc3"
  },
  "language_info": {
   "file_extension": ".asm",
   "mimetype": "text/x-gas",
   "name": "gas"
  }
 },
 "nbformat": 4,
 "nbformat_minor": 1
}
