{
 "cells": [
  {
   "cell_type": "code",
   "execution_count": 57,
   "metadata": {},
   "outputs": [
    {
     "name": "stdout",
     "output_type": "stream",
     "text": [
      "Assembled! Use %dis or %dump to examine; use %exe to run.\n"
     ]
    }
   ],
   "source": [
    ";; Tutorial room: tells the user how to choose an action by giving them three boxes.\n",
    ";; The box they choose determines their best stat --> determines their class.\n",
    ";; Generate stats from there and allow user to choose a name and other user-chosen features.\n",
    "\n",
    ".ORIG x3000\n",
    "\n",
    "START:    LEA R0, TEXT ;; loads & prints room text\n",
    "          PUTS\n",
    "          IN ;; gets user input\n",
    "          JSR CHOICE\n",
    "\n",
    "          HALT\n",
    "\n",
    ";; Subroutine for parsing input\n",
    ";; Convert the ASCII value in R0 to actual hex value by subtracting 30\n",
    ";; Subtract 2 from the result\n",
    ";; 1-2 = -1 so if result is negative, the user input 1\n",
    ";; 2-2 = 0 so if result is zero, the user input 2\n",
    ";; 3-2 = 1 so if result is positive, the user input 3\n",
    "CHOICE:   ADD R0, R0, #-15\n",
    "          ADD R0, R0, #-15 ;; converts ASCII value to actual hex value of input\n",
    "          ADD R0, R0, #-2\n",
    "          BRn CH1 ;; user chose 1\n",
    "          BRz CH2 ;; user chose 2\n",
    "          BRp CH3 ;; user chose 3\n",
    "          \n",
    "CH1:      LEA R0, TEXT1\n",
    "          PUTS\n",
    "          RET\n",
    "CH2:      LEA R0, TEXT2\n",
    "          PUTS\n",
    "          RET\n",
    "CH3:      LEA R0, TEXT3\n",
    "          PUTS\n",
    "          RET\n",
    "\n",
    ";; Data\n",
    "TEXT1:   .STRINGZ \"You chose the green box and found a magic wand! Attack +1, Defense +1\"\n",
    "TEXT2:   .STRINGZ \"You chose the red box and found a sword! Attack +2\"\n",
    "TEXT3:   .STRINGZ \"You chose the blue box and found a shield! Defense +2\"\n",
    "TEXT:    .STRINGZ \"You are in a room with three choices. In order to choose an action, input the number next to the desired action. (Note that if you input an invalid option, it will be interpreted as one of the given options.) Try it!\\nThere are three boxes. Would you like to:\\n1  Open the green box\\n2  Open the red box\\n3  Open the blue box\\n\" \n",
    "\n",
    ".END\n"
   ]
  },
  {
   "cell_type": "code",
   "execution_count": null,
   "metadata": {},
   "outputs": [],
   "source": [
    "%pc 3000"
   ]
  },
  {
   "cell_type": "code",
   "execution_count": null,
   "metadata": {},
   "outputs": [],
   "source": [
    "%step"
   ]
  },
  {
   "cell_type": "code",
   "execution_count": null,
   "metadata": {
    "collapsed": true
   },
   "outputs": [],
   "source": []
  },
  {
   "cell_type": "code",
   "execution_count": null,
   "metadata": {},
   "outputs": [
    {
     "name": "stdout",
     "output_type": "stream",
     "text": [
      "You are in a room with three choices. In order to choose an action, input the number next to the desired action. (Note that if you input an invalid option, it will be interpreted as one of the given options.) Try it!\n",
      "There are three boxes. Would you like to:\n",
      "1  Open the green box\n",
      "2  Open the red box\n",
      "3  Open the blue box\n",
      "\n",
      "Input a character> 1\n",
      "1\n",
      "You chose the blue box and found a shield! Defense +2"
     ]
    }
   ],
   "source": [
    "%exe"
   ]
  },
  {
   "cell_type": "code",
   "execution_count": null,
   "metadata": {
    "collapsed": true
   },
   "outputs": [],
   "source": []
  }
 ],
 "metadata": {
  "kernelspec": {
   "display_name": "Calysto LC3",
   "language": "asm",
   "name": "calysto_lc3"
  },
  "language_info": {
   "file_extension": ".asm",
   "mimetype": "text/x-gas",
   "name": "gas"
  }
 },
 "nbformat": 4,
 "nbformat_minor": 2
}
