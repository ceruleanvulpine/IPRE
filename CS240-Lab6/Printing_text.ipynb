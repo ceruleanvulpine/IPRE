{
 "cells": [
  {
   "cell_type": "code",
   "execution_count": 3,
   "metadata": {},
   "outputs": [
    {
     "name": "stdout",
     "output_type": "stream",
     "text": [
      "Assembled! Use %dis or %dump to examine; use %exe to run.\n"
     ]
    }
   ],
   "source": [
    ".ORIG x3000\n",
    "\n",
    "    LEA R0, DATA\n",
    "    PUTS\n",
    "\n",
    "    HALT\n",
    "    \n",
    ";; Data\n",
    "DATA: .STRINGZ \"example text\\n\" \n",
    ".END"
   ]
  },
  {
   "cell_type": "code",
   "execution_count": 4,
   "metadata": {},
   "outputs": [
    {
     "name": "stdout",
     "output_type": "stream",
     "text": [
      "example text\n",
      "============================================================\n",
      "Computation completed\n",
      "============================================================\n",
      "Instructions: 156\n",
      "Cycles: 1291 (0.000646 milliseconds)\n",
      "\n",
      "============================================================\n",
      "Registers:\n",
      "============================================================\n",
      "PC: x048E\n",
      "N: 0 Z: 0 P: 1 \n",
      "R0: x3003 R1: x0000 R2: x0000 R3: x0000 \n",
      "R4: x0000 R5: x0000 R6: x0000 R7: x3003 \n"
     ]
    }
   ],
   "source": [
    "%exe"
   ]
  },
  {
   "cell_type": "code",
   "execution_count": null,
   "metadata": {
    "collapsed": true
   },
   "outputs": [],
   "source": []
  }
 ],
 "metadata": {
  "kernelspec": {
   "display_name": "Calysto LC3",
   "language": "asm",
   "name": "calysto_lc3"
  },
  "language_info": {
   "file_extension": ".asm",
   "mimetype": "text/x-gas",
   "name": "gas"
  }
 },
 "nbformat": 4,
 "nbformat_minor": 2
}
