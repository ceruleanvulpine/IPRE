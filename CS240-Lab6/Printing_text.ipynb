{
 "cells": [
  {
   "cell_type": "code",
   "execution_count": 5,
   "metadata": {},
   "outputs": [
    {
     "name": "stdout",
     "output_type": "stream",
     "text": [
      "Assembled! Use %dis or %dump to examine; use %exe to run.\n"
     ]
    }
   ],
   "source": [
    ";; Tutorial room: tells the user how to choose an action by giving them three boxes.\n",
    ";; The box they choose determines their best stat --> determines their class.\n",
    ";; Generate stats from there and allow user to choose a name and other user-chosen features.\n",
    "\n",
    ".ORIG x3000\n",
    "\n",
    "START:    LEA R0, TEXT ;; loads & prints room text\n",
    "          PUTS\n",
    "          IN ;; gets user input\n",
    "          JSR CHOICE\n",
    "\n",
    "          HALT\n",
    "\n",
    ";; Subroutine for parsing input\n",
    ";; Convert the ASCII value in R0 to actual hex value by subtracting 30\n",
    ";; Subtract 2 from the result\n",
    ";; 1-2 = -1 so if result is negative, the user input 1\n",
    ";; 2-2 = 0 so if result is zero, the user input 2\n",
    ";; 3-2 = 1 so if result is positive, the user input 3\n",
    "CHOICE:   \n",
    "          LD R1, ASCII     ;; Load inverted ASCII conversion constant into R0\n",
    "          ADD R0, R0, R1   ;; Add it to convert ASCII value into a number\n",
    "          ADD R0, R0, #-2\n",
    "          BRn CH1 ;; user chose 1\n",
    "          BRz CH2 ;; user chose 2\n",
    "          BRp CH3 ;; user chose 3\n",
    "          \n",
    "CH1:      LEA R0, TEXT1\n",
    "          PUTS\n",
    "          RET\n",
    "CH2:      LEA R0, TEXT2\n",
    "          PUTS\n",
    "          RET\n",
    "CH3:      LEA R0, TEXT3\n",
    "          PUTS\n",
    "          RET\n",
    "\n",
    ";; Data\n",
    "ASCII:   .FILL x-30\n",
    "TEXT1:   .STRINGZ \"You chose the green box and found a magic wand! Attack +1, Defense +1\"\n",
    "TEXT2:   .STRINGZ \"You chose the red box and found a sword! Attack +2\"\n",
    "TEXT3:   .STRINGZ \"You chose the blue box and found a shield! Defense +2\"\n",
    "TEXT:    .STRINGZ \"You are in a room with three choices. In order to choose an action, input the number next to the desired action. (Note that if you input an invalid option, it will be interpreted as one of the given options.) Try it!\\nThere are three boxes. Would you like to:\\n1  Open the green box\\n2  Open the red box\\n3  Open the blue box\\n\" \n",
    "\n",
    ".END\n"
   ]
  },
  {
   "cell_type": "code",
   "execution_count": 9,
   "metadata": {},
   "outputs": [
    {
     "name": "stdout",
     "output_type": "stream",
     "text": [
      "============================================================\n",
      "Memory disassembled:\n",
      "============================================================\n",
      "START:     x3000: xE0C3  LEA R0, TEXT                              [line: 2]\n",
      "           x3001: xF022  PUTS                                      [line: 3]\n",
      "           x3002: xF023  IN                                        [line: 4]\n",
      "           x3003: x4801  JSR CHOICE                                [line: 5]\n",
      "           x3004: xF025  HALT                                      [line: 7]\n",
      "CHOICE:    x3005: x220E  LD R1, ASCII                              [line: 16]\n",
      "           x3006: x1001  ADD R0, R0, R1                            [line: 17]\n",
      "           x3007: x103E  ADD R0, R0, #-2                           [line: 18]\n",
      "           x3008: x0802  BRn CH1 (or 2)                            [line: 19]\n",
      "           x3009: x0404  BRz CH2 (or 4)                            [line: 20]\n",
      "           x300A: x0206  BRp CH3 (or 6)                            [line: 21]\n",
      "CH1:       x300B: xE009  LEA R0, TEXT1                             [line: 23]\n",
      "           x300C: xF022  PUTS                                      [line: 24]\n",
      "           x300D: xC1C0  RET                                       [line: 25]\n",
      "CH2:       x300E: xE04C  LEA R0, TEXT2                             [line: 26]\n",
      "           x300F: xF022  PUTS                                      [line: 27]\n",
      "           x3010: xC1C0  RET                                       [line: 28]\n",
      "CH3:       x3011: xE07C  LEA R0, TEXT3                             [line: 29]\n",
      "           x3012: xF022  PUTS                                      [line: 30]\n",
      "           x3013: xC1C0  RET                                       [line: 31]\n"
     ]
    }
   ],
   "source": [
    "%dis 3000 3013"
   ]
  },
  {
   "cell_type": "code",
   "execution_count": 27,
   "metadata": {},
   "outputs": [
    {
     "name": "stdout",
     "output_type": "stream",
     "text": [
      "============================================================\n",
      "Stepping...  => read, <= write, (Instructions/Cycles):\n",
      "============================================================\n",
      "    PC <= x300E\n",
      "(4592/37989) RET [25] (x300E*: xC1C0)\n",
      "    PC <= x300D\n",
      "...breakpoint hit at x300D\n",
      "\n",
      "============================================================\n",
      "Registers:\n",
      "============================================================\n",
      "PC: x300D\n",
      "N: 0 Z: 0 P: 1 \n",
      "R0: x3015 R1: xFFD0 R2: x0000 R3: x0000 \n",
      "R4: x0000 R5: x0000 R6: x0000 R7: x300D \n"
     ]
    }
   ],
   "source": [
    "%step"
   ]
  },
  {
   "cell_type": "code",
   "execution_count": null,
   "metadata": {
    "collapsed": true
   },
   "outputs": [],
   "source": []
  }
 ],
 "metadata": {
  "kernelspec": {
   "display_name": "Calysto LC3",
   "language": "asm",
   "name": "calysto_lc3"
  },
  "language_info": {
   "file_extension": ".asm",
   "mimetype": "text/x-gas",
   "name": "gas"
  }
 },
 "nbformat": 4,
 "nbformat_minor": 2
}
