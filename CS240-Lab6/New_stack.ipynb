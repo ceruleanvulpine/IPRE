{
 "cells": [
  {
   "cell_type": "markdown",
   "metadata": {},
   "source": [
    "Look sometimes my response to stress is to code ok"
   ]
  },
  {
   "cell_type": "code",
   "execution_count": 102,
   "metadata": {},
   "outputs": [
    {
     "name": "stdout",
     "output_type": "stream",
     "text": [
      "Assembled! Use %dis or %dump to examine; use %exe to run.\n"
     ]
    }
   ],
   "source": [
    ".ORIG x3000\n",
    "\n",
    ";; Actual code starts at START, after stack setup\n",
    "    LEA R0, START\n",
    "    JMP R0\n",
    "\n",
    ";; R6 will store \"going\" addresses while going to push/pop\n",
    ";; R7 will store \"return\" addresses while going to push/pop\n",
    ";; R5 will be used in push/pop to point to top of stack, so won't be saved\n",
    "\n",
    ";; To call a subroutine: \n",
    ";;     LEA R6, [SUBROUTINE LABEL]\n",
    ";;     JSR PUSH\n",
    "\n",
    ";; Before returning from a subroutine: \n",
    ";;     LEA R0, POP\n",
    ";;     JMP R0\n",
    "\n",
    ";; Path: \n",
    ";; Store address of subroutine in R6\n",
    ";; JSR to push, which stores starting point in R7\n",
    ";; Push does JMP R6 to get to subroutine\n",
    ";; Subroutine JMPs to pop\n",
    ";; Pop RETs to starting point \n",
    "\n",
    ";; Eventually, we may need to alter some of these instructions as things get too far apart for JSR or w/e.\n",
    "\n",
    ";; Setup for the stack \n",
    "Top:    .FILL Stack\n",
    "Stack:  .BLKW #100\n",
    "\n",
    "PUSH:   LD R5, Top\n",
    "        STR R0, R5, #0      ;; Save R0 to Stack\n",
    "        ADD R5, R5, #1      ;; Increment Stack\n",
    "        STR R1, R5, #0      ;; Save R1 to Stack\n",
    "        ADD R5, R5, #1      ;; Increment Stack\n",
    "        STR R2, R5, #0      ;; Save R2 to Stack\n",
    "        ADD R5, R5, #1      ;; Increment Stack\n",
    "        STR R3, R5, #0      ;; Save R3 to Stack\n",
    "        ADD R5, R5, #1      ;; Increment Stack\n",
    "        STR R4, R5, #0      ;; Save R4 to Stack\n",
    "        ADD R5, R5, #1      ;; Increment Stack\n",
    "        STR R6, R5, #0      ;; Save R6 to Stack\n",
    "        ADD R5, R5, #1      ;; Increment Stack\n",
    "        STR R7, R5, #0      ;; Save R7 to Stack\n",
    "        ADD R5, R5, #1      ;; Increment Stack\n",
    "        ST R5, Top\n",
    "        .FILL xC180         ;; This is JMP R6, the assembler just wouldn't recognize it if I typed it out, for Mystery Reasons.\n",
    "        \n",
    "POP:    LD R5, Top\n",
    "        ADD R5, R5, #-1     ;; Decrement Stack\n",
    "        LDR R7, R5, #0      ;; Load stack into R7\n",
    "        ADD R5, R5, #-1     ;; Decrement Stack\n",
    "        LDR R6, R5, #0      ;; Load Stack into R6\n",
    "        ADD R5, R5, #-1     ;; Decrement Stack\n",
    "        LDR R4, R5, #0      ;; Load Stack into R4\n",
    "        ADD R5, R5, #-1     ;; Decrement Stack\n",
    "        LDR R3, R5, #0      ;; Load Stack into R3\n",
    "        ADD R5, R5, #-1     ;; Decrement Stack\n",
    "        LDR R2, R5, #0      ;; Load Stack into R2\n",
    "        ADD R5, R5, #-1     ;; Decrement Stack\n",
    "        LDR R1, R5, #0      ;; Load Stack into R1\n",
    "        ADD R5, R5, #-1     ;; Decrement Stack\n",
    "        LDR R0, R5, #0      ;; Load Stack into R0\n",
    "        ST R5, Top\n",
    "        RET\n",
    "        \n",
    "START:  AND R0, R0, #0\n",
    "        ADD R0, R0, #10 \n",
    "        ST R0, N            ;; Put 10 into N, which TRI subroutine will use as input\n",
    "        \n",
    "        LEA R6, TRI\n",
    "        JSR PUSH\n",
    "        \n",
    "        LD R2, TRI_RESULT   ;; Load TRI_RESULT so that it can be seen easily in regs\n",
    "        HALT     \n",
    "     \n",
    ";; Subroutine that calculates triangle numbers - R0 must first be cleared, n is R3, sum is R0\n",
    "\n",
    "TRI:    LD R0, TRI_RESULT   ;; Load TRI_RESULT and N into R0 and R3\n",
    "        LD R3, N\n",
    "        ADD R0, R0, R3      ;; Add R3 to R0 and decrement R0\n",
    "        ADD R3, R3, #-1\n",
    "        ST R0, TRI_RESULT   ;; Store those values back into TRI_RESULT and N\n",
    "        ST R3, N\n",
    "\n",
    "        ADD R3, R3, #0\n",
    "        BRz DONE            ;; Base case: R3 (N) == 0\n",
    "        \n",
    "        LEA R6, TRI\n",
    "        JSR PUSH\n",
    "        BRnzp DONE\n",
    "        \n",
    "TRI_RESULT: .FILL #0\n",
    "N:      .FILL #0\n",
    "        \n",
    "DONE:   LEA R0, POP\n",
    "        JMP R0\n",
    ".END"
   ]
  },
  {
   "cell_type": "code",
   "execution_count": 103,
   "metadata": {
    "scrolled": false
   },
   "outputs": [
    {
     "name": "stdout",
     "output_type": "stream",
     "text": [
      "============================================================\n",
      "Computation completed\n",
      "============================================================\n",
      "Instructions: 476\n",
      "Cycles: 3646 (0.001823 milliseconds)\n",
      "\n",
      "============================================================\n",
      "Registers:\n",
      "============================================================\n",
      "PC: x048E\n",
      "N: 0 Z: 0 P: 1 \n",
      "R0: x000A R1: x0000 R2: x0037 R3: x0000 \n",
      "R4: x0000 R5: x3003 R6: x3090 R7: x3090 \n"
     ]
    }
   ],
   "source": [
    "%exe"
   ]
  },
  {
   "cell_type": "markdown",
   "metadata": {},
   "source": [
    "TRI_RESULT was loaded into R2. And indeed x37 = 3 * 16 + 7 = 55 = 10th triangle number. "
   ]
  },
  {
   "cell_type": "code",
   "execution_count": null,
   "metadata": {
    "collapsed": true
   },
   "outputs": [],
   "source": []
  }
 ],
 "metadata": {
  "kernelspec": {
   "display_name": "Calysto LC3",
   "language": "asm",
   "name": "calysto_lc3"
  },
  "language_info": {
   "file_extension": ".asm",
   "mimetype": "text/x-gas",
   "name": "gas"
  }
 },
 "nbformat": 4,
 "nbformat_minor": 2
}
