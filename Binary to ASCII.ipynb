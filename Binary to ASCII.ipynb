{
 "cells": [
  {
   "cell_type": "code",
   "execution_count": null,
   "metadata": {
    "collapsed": true
   },
   "outputs": [],
   "source": []
  },
  {
   "cell_type": "code",
   "execution_count": 190,
   "metadata": {
    "scrolled": true
   },
   "outputs": [
    {
     "name": "stdout",
     "output_type": "stream",
     "text": [
      "============================================================\n",
      "Memory disassembled:\n",
      "============================================================\n",
      "ASCII_CONVERT: x3088: x202B  LD R0, CONVERT_VAL                        [line: 50]\n",
      "           x3089: x302D  ST R0, TEMPX                              [line: 51]\n",
      "           x308A: x302D  ST R0, TEMPY                              [line: 52]\n",
      "ASCII_BASE: x308B: x2229  LD R1, NEG_ONE                            [line: 57]\n",
      "           x308C: x322C  ST R1, TEMPZ                              [line: 58]\n",
      "           x308D: x1236  ADD R1, R0, #-10                          [line: 61]\n",
      "           x308E: x0604  BRzp ASCII_LOOP (or 4)                    [line: 62]\n",
      "           x308F: x2223  LD R1, ASCII_POS                          [line: 65]\n",
      "           x3090: x1001  ADD R0, R0, R1                            [line: 66]\n",
      "           x3091: xF021  OUT                                       [line: 67]\n",
      "           x3092: xF025  HALT                                      [line: 69]\n",
      "ASCII_LOOP: x3093: x2025  LD R0, TEMPZ                              [line: 74]\n",
      "           x3094: x2221  LD R1, TEN                                [line: 75]\n",
      "           x3095: xEC26  LEA R6, MULTIPLY                          [line: 76]\n",
      "           x3096: x2423  LD R2, PUSH_IND1                          [line: 77]\n",
      "           x3097: x4080  JSRR R2                                   [line: 78]\n",
      "           x3098: x243D  LD R2, MULT_PRODUCT                       [line: 79]\n",
      "           x3099: x341F  ST R2, TEMPZ                              [line: 80]\n",
      "           x309A: x201D  LD R0, TEMPY                              [line: 83]\n",
      "           x309B: xEC3B  LEA R6, DIVIDE                            [line: 84]\n",
      "           x309C: x241D  LD R2, PUSH_IND1                          [line: 85]\n",
      "           x309D: x4080  JSRR R2                                   [line: 86]\n",
      "           x309E: x245A  LD R2, QUOTIENT                           [line: 87]\n",
      "           x309F: x3418  ST R2, TEMPY                              [line: 88]\n",
      "           x30A0: x03F2  BRp ASCII_LOOP                            [line: 90]\n",
      "           x30A1: x2017  LD R0, TEMPZ                              [line: 95]\n",
      "           x30A2: xEC34  LEA R6, DIVIDE                            [line: 96]\n",
      "           x30A3: x2416  LD R2, PUSH_IND1                          [line: 97]\n",
      "           x30A4: x4080  JSRR R2                                   [line: 98]\n",
      "           x30A5: x2453  LD R2, QUOTIENT                           [line: 99]\n",
      "           x30A6: x2211  LD R1, TEMPY                              [line: 102]\n",
      "           x30A7: xEC14  LEA R6, MULTIPLY                          [line: 103]\n",
      "           x30A8: x2411  LD R2, PUSH_IND1                          [line: 104]\n",
      "           x30A9: x4080  JSRR R2                                   [line: 105]\n",
      "           x30AA: x242B  LD R2, MULT_PRODUCT                       [line: 106]\n",
      "           x30AB: x2607  LD R3, ASCII_POS                          [line: 108]\n",
      "           x30AC: x1243  ADD R1, R1, R3                            [line: 109]\n",
      "           x30AD: xF221  OUT                                       [line: 110]\n",
      "           x30AE: x2008  LD R0, TEMPX                              [line: 112]\n",
      "           x30AF: x1002  ADD R0, R0, R2                            [line: 113]\n",
      "           x30B0: x3006  ST R0, TEMPX                              [line: 114]\n",
      "           x30B1: x3006  ST R0, TEMPY                              [line: 115]\n",
      "           x30B2: x0FD8  BRnzp ASCII_BASE                          [line: 117]\n",
      "ASCII_POS: x30B3: x0030  NOOP - (no BR to x30E4) (or 48, '0')      [line: 120]\n",
      "CONVERT_VAL: x30B4: x000C  NOOP - (no BR to MULTNEG1) (or 12)        [line: 121]\n",
      "NEG_ONE:   x30B5: xFFFF  ;; Invalid TRAP vector: x00FF             [line: 122]\n",
      "TEN:       x30B6: x000A  NOOP - (no BR to MULTNEG1) (or 10)        [line: 123]\n",
      "TEMPX:     x30B7: x0000  NOOP - (no BR to TEMPY) (or 0)            [line: 124]\n",
      "TEMPY:     x30B8: x0000  NOOP - (no BR to TEMPZ) (or 0)            [line: 125]\n",
      "TEMPZ:     x30B9: xFFFF  ;; Invalid TRAP vector: x00FF             [line: 126]\n",
      "PUSH_IND1: x30BA: x3066  ST R0, x3121                              [line: 131]\n",
      "POP_IND1:  x30BB: x3077  ST R0, x3133                              [line: 132]\n",
      "MULTIPLY:  x30BC: x54A0  AND R2, R2, #0                            [line: 137]\n",
      "           x30BD: x56E0  AND R3, R3, #0                            [line: 138]\n",
      "           x30BE: x1020  ADD R0, R0, #0                            [line: 139]\n",
      "           x30BF: x0801  BRn MULTNEG1 (or 1)                       [line: 140]\n",
      "           x30C0: x0E03  BRnzp MULTCONT (or 3)                     [line: 141]\n",
      "MULTNEG1:  x30C1: x96FF  NOT R3, R3                                [line: 142]\n",
      "           x30C2: x903F  NOT R0, R0                                [line: 143]\n",
      "           x30C3: x1021  ADD R0, R0, #1                            [line: 144]\n",
      "MULTCONT:  x30C4: x1260  ADD R1, R1, #0                            [line: 145]\n",
      "           x30C5: x0801  BRn MULTNEG2 (or 1)                       [line: 146]\n",
      "           x30C6: x0E03  BRnzp MULTINIT (or 3)                     [line: 147]\n",
      "MULTNEG2:  x30C7: x96FF  NOT R3, R3                                [line: 148]\n",
      "           x30C8: x927F  NOT R1, R1                                [line: 149]\n",
      "           x30C9: x1261  ADD R1, R1, #1                            [line: 150]\n",
      "MULTINIT:  x30CA: x1020  ADD R0, R0, #0                            [line: 151]\n",
      "MULTLOOP:  x30CB: x0403  BRz MULTDONE (or 3)                       [line: 152]\n",
      "           x30CC: x1481  ADD R2, R2, R1                            [line: 153]\n",
      "           x30CD: x103F  ADD R0, R0, #-1                           [line: 154]\n",
      "           x30CE: x0FFC  BRnzp MULTLOOP                            [line: 155]\n",
      "MULTDONE:  x30CF: x10E0  ADD R0, R3, #0                            [line: 156]\n",
      "           x30D0: x0602  BRzp MULTRET (or 2)                       [line: 157]\n",
      "           x30D1: x94BF  NOT R2, R2                                [line: 158]\n",
      "           x30D2: x14A1  ADD R2, R2, #1                            [line: 159]\n",
      "MULTRET:   x30D3: x3402  ST R2, MULT_PRODUCT                       [line: 161]\n",
      "           x30D4: x21E6  LD R0, POP_IND1                           [line: 162]\n",
      "           x30D5: xC000  JMP R0                                    [line: 163]\n",
      "MULT_PRODUCT: x30D6: x0000  NOOP - (no BR to DIVIDE) (or 0)           [line: 165]\n",
      "DIVIDE:    x30D7: x56E0  AND R3, R3, #0                            [line: 174]\n",
      "           x30D8: x3620  ST R3, QUOTIENT                           [line: 175]\n",
      "           x30D9: x3620  ST R3, REMAINDER                          [line: 176]\n",
      "           x30DA: x1020  ADD R0, R0, #0                            [line: 177]\n",
      "           x30DB: x0801  BRn DIVNEG1 (or 1)                        [line: 178]\n",
      "           x30DC: x0E03  BRnzp DIVCONT (or 3)                      [line: 179]\n",
      "DIVNEG1:   x30DD: x96FF  NOT R3, R3                                [line: 180]\n",
      "           x30DE: x903F  NOT R0, R0                                [line: 181]\n",
      "           x30DF: x1021  ADD R0, R0, #1                            [line: 182]\n",
      "DIVCONT:   x30E0: x1260  ADD R1, R1, #0                            [line: 183]\n",
      "           x30E1: x0801  BRn DIVNEG2 (or 1)                        [line: 184]\n",
      "           x30E2: x0E03  BRnzp DIVINIT (or 3)                      [line: 185]\n",
      "DIVNEG2:   x30E3: x96FF  NOT R3, R3                                [line: 186]\n",
      "           x30E4: x927F  NOT R1, R1                                [line: 187]\n",
      "           x30E5: x1261  ADD R1, R1, #1                            [line: 188]\n",
      "DIVINIT:   x30E6: x1860  ADD R4, R1, #0                            [line: 189]\n",
      "           x30E7: x993F  NOT R4, R4                                [line: 190]\n",
      "           x30E8: x1921  ADD R4, R4, #1                            [line: 191]\n",
      "DIVLOOP:   x30E9: x1404  ADD R2, R0, R4                            [line: 192]\n",
      "           x30EA: x0805  BRn DIVDONE (or 5)                        [line: 193]\n",
      "           x30EB: x1004  ADD R0, R0, R4                            [line: 194]\n"
     ]
    }
   ],
   "source": [
    "%dis 3088"
   ]
  },
  {
   "cell_type": "code",
   "execution_count": 600,
   "metadata": {},
   "outputs": [
    {
     "name": "stdout",
     "output_type": "stream",
     "text": [
      "Assembled! Use %dis or %dump to examine; use %exe to run.\n"
     ]
    }
   ],
   "source": [
    ".ORIG x3000\n",
    "\n",
    "    BRnzp ASCII_CONVERT\n",
    "    \n",
    ";; ------------------------------------------------------------------\n",
    ";; Setup for the stack \n",
    "Top:    .FILL Stack\n",
    "Stack:  .BLKW #100\n",
    "\n",
    "PUSH:   LD R5, Top\n",
    "        STR R0, R5, #0      ;; Save R0 to Stack\n",
    "        ADD R5, R5, #1      ;; Increment Stack\n",
    "        STR R1, R5, #0      ;; Save R1 to Stack\n",
    "        ADD R5, R5, #1      ;; Increment Stack\n",
    "        STR R2, R5, #0      ;; Save R2 to Stack\n",
    "        ADD R5, R5, #1      ;; Increment Stack\n",
    "        STR R3, R5, #0      ;; Save R3 to Stack\n",
    "        ADD R5, R5, #1      ;; Increment Stack\n",
    "        STR R4, R5, #0      ;; Save R4 to Stack\n",
    "        ADD R5, R5, #1      ;; Increment Stack\n",
    "        STR R6, R5, #0      ;; Save R6 to Stack\n",
    "        ADD R5, R5, #1      ;; Increment Stack\n",
    "        STR R7, R5, #0      ;; Save R7 to Stack\n",
    "        ADD R5, R5, #1      ;; Increment Stack\n",
    "        ST R5, Top\n",
    "        JMP R6\n",
    "        \n",
    "POP:    LD R5, Top\n",
    "        ADD R5, R5, #-1     ;; Decrement Stack\n",
    "        LDR R7, R5, #0      ;; Load stack into R7\n",
    "        ADD R5, R5, #-1     ;; Decrement Stack\n",
    "        LDR R6, R5, #0      ;; Load Stack into R6\n",
    "        ADD R5, R5, #-1     ;; Decrement Stack\n",
    "        LDR R4, R5, #0      ;; Load Stack into R4\n",
    "        ADD R5, R5, #-1     ;; Decrement Stack\n",
    "        LDR R3, R5, #0      ;; Load Stack into R3\n",
    "        ADD R5, R5, #-1     ;; Decrement Stack\n",
    "        LDR R2, R5, #0      ;; Load Stack into R2\n",
    "        ADD R5, R5, #-1     ;; Decrement Stack\n",
    "        LDR R1, R5, #0      ;; Load Stack into R1\n",
    "        ADD R5, R5, #-1     ;; Decrement Stack\n",
    "        LDR R0, R5, #0      ;; Load Stack into R0\n",
    "        ST R5, Top\n",
    "        RET\n",
    "\n",
    ";; ------------------------------------------------------------------\n",
    "\n",
    ";; Subroutine to convert binary value into ASCII decimal and print.\n",
    "\n",
    "ASCII_CONVERT:\n",
    "    LD R0, CONVERT_VAL\n",
    "    ST R0, TEMPX\n",
    "    ST R0, TEMPY\n",
    "    \n",
    "ASCII_BASE: ;; Base case: if val < #10, add x30 and print\n",
    "\n",
    "    ;; reset TEMPZ to #-1\n",
    "    LD R1, NEG_ONE\n",
    "    ST R1, TEMPZ\n",
    "    \n",
    "    ;; check val < #10\n",
    "    ADD R1, R0, #-10\n",
    "    BRzp ASCII_LOOP ;; if val >= #10, skip to main loop\n",
    "    \n",
    "    ;; convert R1 to ASCII and print\n",
    "    LD R1, ASCII_POS\n",
    "    ADD R0, R0, R1\n",
    "    OUT R0\n",
    "    \n",
    "    HALT\n",
    "    \n",
    "ASCII_LOOP_REP: ;; start here if repeating non-base case\n",
    "\n",
    "    ST R2, TEMPY ;; stores TEMPY from last loop\n",
    "\n",
    "ASCII_LOOP: ;; Non-base case\n",
    "    \n",
    "    ;; TEMPZ = z*10\n",
    "    LD R0, TEMPZ ;; R0 <- z\n",
    "    LD R1, TEN ;; R1 <- 10\n",
    "    LEA R6, Multiply\n",
    "    LD R2, PUSH_IND1\n",
    "    JSRR R2         ; R0 * R1\n",
    "    LD R2, MULT_PRODUCT  ; R2 <- R0 * R1   = z*10\n",
    "    ST R2, TEMPZ\n",
    "    \n",
    "    ;; R2 = y/10\n",
    "    LD R0, TEMPY ;; R0 <- y\n",
    "    LEA R6, Divide\n",
    "    LD R2, PUSH_IND1\n",
    "    JSRR R2         ; R0 / R1\n",
    "    LD R2, QUOTIENT  ; R2 <- R0 / R1       = y/10\n",
    "    ;;ST R2, TEMPY\n",
    "    ;;ADD R2, R2, #0\n",
    "    \n",
    "    BRp ASCII_LOOP_REP ;; if quotient is positive, repeat loop\n",
    "    \n",
    "    ;; else if quotient is zero, use previous quotient (current val of TEMPY) as y\n",
    "    \n",
    "    ;; z = z/10 since the loop has to go one extra time to hit zero\n",
    "    LD R0, TEMPZ ;; R0 <- z\n",
    "    LEA R6, Divide\n",
    "    LD R2, PUSH_IND1\n",
    "    JSRR R2         ; R0 / R1\n",
    "    LD R2, QUOTIENT  ; R2 <- R0 / R1    = z/10\n",
    "    LD R0, QUOTIENT\n",
    "    \n",
    "    ;; R2 = y*z\n",
    "    LD R1, TEMPY ;; R1 <- y\n",
    "    LEA R6, Multiply\n",
    "    LD R2, PUSH_IND1\n",
    "    JSRR R2         ; R0 * R1\n",
    "    LD R2, MULT_PRODUCT  ; R2 <- R0 * R1     = y*z\n",
    "    \n",
    "    LD R3, ASCII_POS\n",
    "    ADD R0, R1, R3 ;; convert y to ASCII\n",
    "    OUT R1\n",
    "    \n",
    "    LD R0, TEMPX\n",
    "    ADD R0, R0, R2 ;; x-z: current state of val - (10^n * y)\n",
    "    ST R0, TEMPX\n",
    "    ST R0, TEMPY\n",
    "    \n",
    "    BRnzp ASCII_BASE ;; return to ASCII_BASE to check for base case\n",
    "    \n",
    "    \n",
    "ASCII_POS:   .FILL x30\n",
    "CONVERT_VAL:   .FILL #132 ;; value to be converted\n",
    "NEG_ONE:   .FILL #-1\n",
    "TEN:   .FILL #10\n",
    "TEMPX:   .FILL #0 ;; stores present state of value to be converted, after subtraction\n",
    "TEMPY:   .FILL #0 ;; stores present state of value to be converted, after division\n",
    "TEMPZ:   .FILL #-1 ;; stores (negative) exponent of 10\n",
    "\n",
    ";;-----------------------------------------------------------------\n",
    ";; Signposts to PUSH and POP\n",
    "\n",
    "PUSH_IND1: .FILL PUSH\n",
    "POP_IND1: .FILL POP\n",
    "\n",
    ";;; -----------------------------------------------------\n",
    ";;; Mult_Product <- R0 * R1\n",
    ";;; Also uses R3 to store SIGN\n",
    "Multiply: AND R2,R2,#0\n",
    "  AND R3,R3,#0\n",
    "  ADD R0,R0,#0         ; compare R0\n",
    "  BRn MultNEG1\n",
    "  BR  MultCont\n",
    "MultNEG1: NOT R3,R3         ; flip SIGN\n",
    "  NOT R0,R0\n",
    "  ADD R0,R0,#1\n",
    "MultCONT: ADD R1,R1,#0         ; compare R1\n",
    "  BRn MultNEG2\n",
    "  BR MultInit\n",
    "MultNEG2: NOT R3,R3         ; flip SIGN\n",
    "  NOT R1,R1\n",
    "  ADD R1,R1,#1\n",
    "MultInit: ADD R0,R0,#0      ; have R0 set the condition codes\n",
    "MultLoop: BRz MultDone\n",
    "  ADD R2,R2,R1\n",
    "  ADD R0,R0,#-1\n",
    "  BR MultLoop\n",
    "MultDone: ADD R0,R3,#0\n",
    "  BRzp MultRet\n",
    "  NOT R2,R2\n",
    "  ADD R2,R2,#1\n",
    "MultRet:\n",
    "  ST R2, MULT_PRODUCT           ; Product has the product\n",
    "  LD R0, POP_IND1\n",
    "  JMP R0\n",
    "  \n",
    "MULT_PRODUCT: .FILL #0\n",
    "\n",
    ";;; -----------------------------------------------------\n",
    ";;; R0 / R1\n",
    ";;; Also uses R3 to store SIGN\n",
    ";;;           R4 to store -R1\n",
    ";;;           R5 is QUOTIENT\n",
    ";;;           R6 is REMAINDER\n",
    ";;;           R2 temp\n",
    "Divide:   AND R3,R3,#0\n",
    "  ST R3, QUOTIENT\n",
    "  ST R3, REMAINDER\n",
    "  ADD R0,R0,#0         ; compare R0\n",
    "  BRn DivNEG1\n",
    "  BR  DivCont\n",
    "DivNEG1:  NOT R3,R3         ; flip SIGN\n",
    "  NOT R0,R0\n",
    "  ADD R0,R0,#1\n",
    "DivCONT:  ADD R1,R1,#0         ; compare R1\n",
    "  BRn DivNEG2\n",
    "  BR DivInit\n",
    "DivNEG2:  NOT R3,R3         ; flip SIGN\n",
    "  NOT R1,R1\n",
    "  ADD R1,R1,#1\n",
    "DivInit:  ADD R4,R1,#0\n",
    "  NOT R4,R4\n",
    "  ADD R4,R4,#1\n",
    "DivLoop:  ADD R2,R0,R4      ; have R2 set the condition codes\n",
    "  BRn DivDone\n",
    "  ADD R0,R0,R4\n",
    "  LD R2,QUOTIENT\n",
    "  ADD R2,R2,#1\n",
    "  ST R2,QUOTIENT\n",
    "  BR DivLoop\n",
    "DivDone:  ADD R3,R3,#0         ; Negative?\n",
    "  BRzp DivRet\n",
    "  LD R2,QUOTIENT     ; Yes, then negate R2\n",
    "  NOT R2,R2\n",
    "  ADD R2,R2,#1\n",
    "  ST R2,QUOTIENT\n",
    "DivRet:      ST R0,REMAINDER\n",
    "  LD R0, POP_IND1\n",
    "  JMP R0\n",
    "QUOTIENT: .FILL #0\n",
    "REMAINDER: .FILL #0\n",
    "\n",
    ".END"
   ]
  },
  {
   "cell_type": "code",
   "execution_count": 406,
   "metadata": {},
   "outputs": [
    {
     "name": "stdout",
     "output_type": "stream",
     "text": [
      "============================================================\n",
      "Breakpoints\n",
      "============================================================\n",
      "    1) ASCII_CONVERT: x3088: x202B  LD R0, CONVERT_VAL                        [line: 50]\n"
     ]
    }
   ],
   "source": [
    "%bp x3088"
   ]
  },
  {
   "cell_type": "code",
   "execution_count": 407,
   "metadata": {},
   "outputs": [
    {
     "name": "stdout",
     "output_type": "stream",
     "text": [
      "============================================================\n",
      "Breakpoints\n",
      "============================================================\n",
      "    1) ASCII_CONVERT: x3088: x202B  LD R0, CONVERT_VAL                        [line: 50]\n",
      "    2) ASCII_BASE: x308B: x2229  LD R1, NEG_ONE                            [line: 57]\n"
     ]
    }
   ],
   "source": [
    "%bp x308B"
   ]
  },
  {
   "cell_type": "code",
   "execution_count": 408,
   "metadata": {},
   "outputs": [
    {
     "name": "stdout",
     "output_type": "stream",
     "text": [
      "============================================================\n",
      "Breakpoints\n",
      "============================================================\n",
      "    1) ASCII_CONVERT: x3088: x202B  LD R0, CONVERT_VAL                        [line: 50]\n",
      "    2) ASCII_BASE: x308B: x2229  LD R1, NEG_ONE                            [line: 57]\n",
      "    3) ASCII_LOOP_REP: x3093: x3424  ST R2, TEMPY                              [line: 73]\n"
     ]
    }
   ],
   "source": [
    "%bp x3093"
   ]
  },
  {
   "cell_type": "code",
   "execution_count": 409,
   "metadata": {},
   "outputs": [
    {
     "name": "stdout",
     "output_type": "stream",
     "text": [
      "============================================================\n",
      "Breakpoints\n",
      "============================================================\n",
      "    1) ASCII_CONVERT: x3088: x202B  LD R0, CONVERT_VAL                        [line: 50]\n",
      "    2) ASCII_BASE: x308B: x2229  LD R1, NEG_ONE                            [line: 57]\n",
      "    3) ASCII_LOOP_REP: x3093: x3424  ST R2, TEMPY                              [line: 73]\n",
      "    4) ASCII_LOOP: x3094: x2024  LD R0, TEMPZ                              [line: 78]\n"
     ]
    }
   ],
   "source": [
    "%bp x3094"
   ]
  },
  {
   "cell_type": "code",
   "execution_count": 546,
   "metadata": {},
   "outputs": [
    {
     "name": "stdout",
     "output_type": "stream",
     "text": [
      "============================================================\n",
      "Breakpoints\n",
      "============================================================\n",
      "    1)            x3099: x243D  LD R2, MULT_PRODUCT                       [line: 83]\n"
     ]
    }
   ],
   "source": [
    "%bp x3099"
   ]
  },
  {
   "cell_type": "code",
   "execution_count": 547,
   "metadata": {},
   "outputs": [
    {
     "name": "stdout",
     "output_type": "stream",
     "text": [
      "============================================================\n",
      "Breakpoints\n",
      "============================================================\n",
      "    1)            x3099: x243D  LD R2, MULT_PRODUCT                       [line: 83]\n",
      "    2)            x309F: x245A  LD R2, QUOTIENT                           [line: 91]\n"
     ]
    }
   ],
   "source": [
    "%bp x309F"
   ]
  },
  {
   "cell_type": "code",
   "execution_count": 411,
   "metadata": {},
   "outputs": [
    {
     "name": "stdout",
     "output_type": "stream",
     "text": [
      "============================================================\n",
      "Breakpoints\n",
      "============================================================\n",
      "    1) ASCII_CONVERT: x3088: x202B  LD R0, CONVERT_VAL                        [line: 50]\n",
      "    2) ASCII_BASE: x308B: x2229  LD R1, NEG_ONE                            [line: 57]\n",
      "    3) ASCII_LOOP_REP: x3093: x3424  ST R2, TEMPY                              [line: 73]\n",
      "    4) ASCII_LOOP: x3094: x2024  LD R0, TEMPZ                              [line: 78]\n",
      "    5)            x3099: x243C  LD R2, MULT_PRODUCT                       [line: 83]\n",
      "    6)            x30A0: x03F2  BRp ASCII_LOOP_REP                        [line: 95]\n"
     ]
    }
   ],
   "source": [
    "%bp x30A0"
   ]
  },
  {
   "cell_type": "code",
   "execution_count": 548,
   "metadata": {},
   "outputs": [
    {
     "name": "stdout",
     "output_type": "stream",
     "text": [
      "============================================================\n",
      "Breakpoints\n",
      "============================================================\n",
      "    1)            x3099: x243D  LD R2, MULT_PRODUCT                       [line: 83]\n",
      "    2)            x309F: x245A  LD R2, QUOTIENT                           [line: 91]\n",
      "    3)            x30A5: x2454  LD R2, QUOTIENT                           [line: 104]\n"
     ]
    }
   ],
   "source": [
    "%bp x30A5"
   ]
  },
  {
   "cell_type": "code",
   "execution_count": 549,
   "metadata": {},
   "outputs": [
    {
     "name": "stdout",
     "output_type": "stream",
     "text": [
      "============================================================\n",
      "Breakpoints\n",
      "============================================================\n",
      "    1)            x3099: x243D  LD R2, MULT_PRODUCT                       [line: 83]\n",
      "    2)            x309F: x245A  LD R2, QUOTIENT                           [line: 91]\n",
      "    3)            x30A5: x2454  LD R2, QUOTIENT                           [line: 104]\n",
      "    4)            x30AB: x242B  LD R2, MULT_PRODUCT                       [line: 112]\n"
     ]
    }
   ],
   "source": [
    "%bp x30AB"
   ]
  },
  {
   "cell_type": "code",
   "execution_count": 414,
   "metadata": {},
   "outputs": [
    {
     "name": "stdout",
     "output_type": "stream",
     "text": [
      "============================================================\n",
      "Breakpoints\n",
      "============================================================\n",
      "    1) ASCII_CONVERT: x3088: x202B  LD R0, CONVERT_VAL                        [line: 50]\n",
      "    2) ASCII_BASE: x308B: x2229  LD R1, NEG_ONE                            [line: 57]\n",
      "    3) ASCII_LOOP_REP: x3093: x3424  ST R2, TEMPY                              [line: 73]\n",
      "    4) ASCII_LOOP: x3094: x2024  LD R0, TEMPZ                              [line: 78]\n",
      "    5)            x3099: x243C  LD R2, MULT_PRODUCT                       [line: 83]\n",
      "    6)            x30A0: x03F2  BRp ASCII_LOOP_REP                        [line: 95]\n",
      "    7)            x30A5: x2453  LD R2, QUOTIENT                           [line: 104]\n",
      "    8)            x30AA: x242B  LD R2, MULT_PRODUCT                       [line: 111]\n",
      "    9)            x30AE: x2008  LD R0, TEMPX                              [line: 117]\n"
     ]
    }
   ],
   "source": [
    "%bp x30AE"
   ]
  },
  {
   "cell_type": "code",
   "execution_count": 415,
   "metadata": {},
   "outputs": [
    {
     "name": "stdout",
     "output_type": "stream",
     "text": [
      "============================================================\n",
      "Breakpoints\n",
      "============================================================\n",
      "    1) ASCII_CONVERT: x3088: x202B  LD R0, CONVERT_VAL                        [line: 50]\n",
      "    2) ASCII_BASE: x308B: x2229  LD R1, NEG_ONE                            [line: 57]\n",
      "    3) ASCII_LOOP_REP: x3093: x3424  ST R2, TEMPY                              [line: 73]\n",
      "    4) ASCII_LOOP: x3094: x2024  LD R0, TEMPZ                              [line: 78]\n",
      "    5)            x3099: x243C  LD R2, MULT_PRODUCT                       [line: 83]\n",
      "    6)            x30A0: x03F2  BRp ASCII_LOOP_REP                        [line: 95]\n",
      "    7)            x30A5: x2453  LD R2, QUOTIENT                           [line: 104]\n",
      "    8)            x30AA: x242B  LD R2, MULT_PRODUCT                       [line: 111]\n",
      "    9)            x30AE: x2008  LD R0, TEMPX                              [line: 117]\n",
      "    10)            x30AF: x1002  ADD R0, R0, R2                            [line: 118]\n"
     ]
    }
   ],
   "source": [
    "%bp x30AF"
   ]
  },
  {
   "cell_type": "code",
   "execution_count": 601,
   "metadata": {},
   "outputs": [
    {
     "name": "stdout",
     "output_type": "stream",
     "text": [
      "132============================================================\n",
      "Computation completed\n",
      "============================================================\n",
      "Instructions: 2715\n",
      "Cycles: 18581 (0.009291 milliseconds)\n",
      "\n",
      "============================================================\n",
      "Registers:\n",
      "============================================================\n",
      "PC: x048E\n",
      "N: 0 Z: 0 P: 1 \n",
      "R0: x0032 R1: x0030 R2: xFFE2 R3: x0030 \n",
      "R4: x0000 R5: x3002 R6: x30BD R7: x3093 \n"
     ]
    }
   ],
   "source": [
    "%exe"
   ]
  },
  {
   "cell_type": "code",
   "execution_count": 423,
   "metadata": {},
   "outputs": [
    {
     "name": "stdout",
     "output_type": "stream",
     "text": [
      "...breakpoint hit at x3099\n",
      "============================================================\n",
      "Computation SUSPENDED\n",
      "============================================================\n",
      "Instructions: 237\n",
      "Cycles: 1711 (0.000856 milliseconds)\n",
      "\n",
      "============================================================\n",
      "Registers:\n",
      "============================================================\n",
      "PC: x3099\n",
      "N: 1 Z: 0 P: 0 \n",
      "R0: xFFF6 R1: x000A R2: x3066 R3: x0000 \n",
      "R4: x0000 R5: x3002 R6: x30BC R7: x3099 \n"
     ]
    }
   ],
   "source": [
    "%cont"
   ]
  },
  {
   "cell_type": "code",
   "execution_count": 231,
   "metadata": {},
   "outputs": [
    {
     "name": "stdout",
     "output_type": "stream",
     "text": [
      "============================================================\n",
      "Memory disassembled:\n",
      "============================================================\n",
      "TEMPY:     x30B7: x000C  NOOP - (no BR to x30C4) (or 12)           [line: 126]\n",
      "TEMPZ:     x30B8: xFC18  ;; Invalid TRAP vector: x0018             [line: 127]\n",
      "PUSH_IND1: x30B9: x3066  ST R0, x3120                              [line: 132]\n"
     ]
    }
   ],
   "source": [
    "%dis 30B7 30B9"
   ]
  },
  {
   "cell_type": "code",
   "execution_count": 14,
   "metadata": {},
   "outputs": [
    {
     "name": "stdout",
     "output_type": "stream",
     "text": [
      "============================================================\n",
      "Memory disassembled:\n",
      "============================================================\n",
      "           x30EC: x14A1  ADD R2, R2, #1                            [line: 195]\n",
      "           x30ED: x340A  ST R2, QUOTIENT                           [line: 196]\n",
      "           x30EE: x0FF9  BRnzp DIVLOOP                             [line: 197]\n",
      "DIVDONE:   x30EF: x16E0  ADD R3, R3, #0                            [line: 198]\n",
      "           x30F0: x0604  BRzp DIVRET (or 4)                        [line: 199]\n",
      "           x30F1: x2406  LD R2, QUOTIENT                           [line: 200]\n",
      "           x30F2: x94BF  NOT R2, R2                                [line: 201]\n",
      "           x30F3: x14A1  ADD R2, R2, #1                            [line: 202]\n",
      "           x30F4: x3403  ST R2, QUOTIENT                           [line: 203]\n",
      "DIVRET:    x30F5: x3003  ST R0, REMAINDER                          [line: 204]\n",
      "           x30F6: x21C3  LD R0, POP_IND1                           [line: 205]\n",
      "           x30F7: xC000  JMP R0                                    [line: 206]\n",
      "QUOTIENT:  x30F8: x0000  NOOP - (no BR to REMAINDER) (or 0)        [line: 207]\n",
      "REMAINDER: x30F9: x0000  NOOP - (no BR to x30FA) (or 0)            [line: 208]\n",
      "           x30FA: x0000  NOOP - (no BR to x30FB) (or 0)            [line: 209]\n"
     ]
    }
   ],
   "source": [
    "%dis 30EC"
   ]
  },
  {
   "cell_type": "code",
   "execution_count": null,
   "metadata": {
    "collapsed": true
   },
   "outputs": [],
   "source": []
  },
  {
   "cell_type": "code",
   "execution_count": 371,
   "metadata": {
    "scrolled": true
   },
   "outputs": [
    {
     "name": "stdout",
     "output_type": "stream",
     "text": [
      "============================================================\n",
      "Breakpoints\n",
      "============================================================\n",
      "    1) ASCII_CONVERT: x3088: x202B  LD R0, CONVERT_VAL                        [line: 50]\n"
     ]
    }
   ],
   "source": [
    "%bp 3088"
   ]
  },
  {
   "cell_type": "code",
   "execution_count": 372,
   "metadata": {
    "scrolled": true
   },
   "outputs": [
    {
     "name": "stdout",
     "output_type": "stream",
     "text": [
      "============================================================\n",
      "Breakpoints\n",
      "============================================================\n",
      "    1) ASCII_CONVERT: x3088: x202B  LD R0, CONVERT_VAL                        [line: 50]\n",
      "    2) ASCII_BASE: x308B: x2229  LD R1, NEG_ONE                            [line: 57]\n"
     ]
    }
   ],
   "source": [
    "%bp 308B"
   ]
  },
  {
   "cell_type": "code",
   "execution_count": 373,
   "metadata": {
    "scrolled": true
   },
   "outputs": [
    {
     "name": "stdout",
     "output_type": "stream",
     "text": [
      "============================================================\n",
      "Breakpoints\n",
      "============================================================\n",
      "    1) ASCII_CONVERT: x3088: x202B  LD R0, CONVERT_VAL                        [line: 50]\n",
      "    2) ASCII_BASE: x308B: x2229  LD R1, NEG_ONE                            [line: 57]\n",
      "    3) ASCII_LOOP_REP: x3093: x3424  ST R2, TEMPY                              [line: 73]\n"
     ]
    }
   ],
   "source": [
    "%bp 3093"
   ]
  },
  {
   "cell_type": "code",
   "execution_count": 374,
   "metadata": {
    "scrolled": true
   },
   "outputs": [
    {
     "name": "stdout",
     "output_type": "stream",
     "text": [
      "============================================================\n",
      "Breakpoints\n",
      "============================================================\n",
      "    1) ASCII_CONVERT: x3088: x202B  LD R0, CONVERT_VAL                        [line: 50]\n",
      "    2) ASCII_BASE: x308B: x2229  LD R1, NEG_ONE                            [line: 57]\n",
      "    3) ASCII_LOOP_REP: x3093: x3424  ST R2, TEMPY                              [line: 73]\n",
      "    4)            x30D2: x14A1  ADD R2, R2, #1                            [line: 164]\n"
     ]
    }
   ],
   "source": [
    "%bp 30D2"
   ]
  },
  {
   "cell_type": "code",
   "execution_count": 375,
   "metadata": {},
   "outputs": [
    {
     "name": "stdout",
     "output_type": "stream",
     "text": [
      "============================================================\n",
      "Breakpoints\n",
      "============================================================\n",
      "    1) ASCII_CONVERT: x3088: x202B  LD R0, CONVERT_VAL                        [line: 50]\n",
      "    2) ASCII_BASE: x308B: x2229  LD R1, NEG_ONE                            [line: 57]\n",
      "    3) ASCII_LOOP_REP: x3093: x3424  ST R2, TEMPY                              [line: 73]\n",
      "    4)            x30D2: x14A1  ADD R2, R2, #1                            [line: 164]\n",
      "    5)            x30F5: x3403  ST R2, QUOTIENT                           [line: 209]\n"
     ]
    }
   ],
   "source": [
    "%bp 30F5"
   ]
  },
  {
   "cell_type": "code",
   "execution_count": 376,
   "metadata": {},
   "outputs": [
    {
     "name": "stdout",
     "output_type": "stream",
     "text": [
      "============================================================\n",
      "Breakpoints\n",
      "============================================================\n",
      "    1) ASCII_CONVERT: x3088: x202B  LD R0, CONVERT_VAL                        [line: 50]\n",
      "    2) ASCII_BASE: x308B: x2229  LD R1, NEG_ONE                            [line: 57]\n",
      "    3) ASCII_LOOP_REP: x3093: x3424  ST R2, TEMPY                              [line: 73]\n",
      "    4)            x30D2: x14A1  ADD R2, R2, #1                            [line: 164]\n",
      "    5) MULT_PRODUCT: x30D6: xFF9C  ;; Invalid TRAP vector: x009C             [line: 170]\n",
      "    6)            x30F5: x3403  ST R2, QUOTIENT                           [line: 209]\n"
     ]
    }
   ],
   "source": [
    "%bp 30D6"
   ]
  },
  {
   "cell_type": "code",
   "execution_count": 561,
   "metadata": {
    "scrolled": true
   },
   "outputs": [
    {
     "name": "stdout",
     "output_type": "stream",
     "text": [
      "...breakpoint hit at x30AB\n",
      "============================================================\n",
      "Computation SUSPENDED\n",
      "============================================================\n",
      "Instructions: 530\n",
      "Cycles: 3814 (0.001907 milliseconds)\n",
      "\n",
      "============================================================\n",
      "Registers:\n",
      "============================================================\n",
      "PC: x30AB\n",
      "N: 1 Z: 0 P: 0 \n",
      "R0: xFFF6 R1: x0001 R2: x3066 R3: x0000 \n",
      "R4: x0000 R5: x3002 R6: x30BD R7: x30AB \n"
     ]
    }
   ],
   "source": [
    "%cont"
   ]
  },
  {
   "cell_type": "code",
   "execution_count": 550,
   "metadata": {
    "scrolled": true
   },
   "outputs": [
    {
     "name": "stdout",
     "output_type": "stream",
     "text": [
      "\n",
      "============================================================\n",
      "Registers:\n",
      "============================================================\n",
      "PC: x3000\n",
      "N: 0 Z: 1 P: 0 \n",
      "R0: x0000 R1: x0000 R2: x0000 R3: x0000 \n",
      "R4: x0000 R5: x0000 R6: x0000 R7: x0000 \n"
     ]
    }
   ],
   "source": [
    "%pc x3000"
   ]
  },
  {
   "cell_type": "code",
   "execution_count": 597,
   "metadata": {
    "scrolled": true
   },
   "outputs": [
    {
     "name": "stdout",
     "output_type": "stream",
     "text": [
      "============================================================\n",
      "Stepping...  => read, <= write, (Instructions/Cycles):\n",
      "============================================================\n",
      "    PC <= x045B\n",
      "(566/4121) LDR R0, R1, 0 (x045B*: x6040)\n",
      "  Reading memory[x04b0] (x000a) =>\n",
      "    R0 <= x000A\n",
      "    NZP <= (0, 0, 1)\n",
      "\n",
      "============================================================\n",
      "Registers:\n",
      "============================================================\n",
      "PC: x045B\n",
      "N: 0 Z: 0 P: 1 \n",
      "R0: x000A R1: x04B0 R2: xFFF6 R3: x0030 \n",
      "R4: x0000 R5: x3002 R6: x30BD R7: x0490 \n"
     ]
    }
   ],
   "source": [
    "%step"
   ]
  },
  {
   "cell_type": "code",
   "execution_count": null,
   "metadata": {
    "collapsed": true
   },
   "outputs": [],
   "source": []
  },
  {
   "cell_type": "code",
   "execution_count": 358,
   "metadata": {},
   "outputs": [
    {
     "name": "stdout",
     "output_type": "stream",
     "text": [
      "Assembled! Use %dis or %dump to examine; use %exe to run.\n"
     ]
    }
   ],
   "source": [
    ".ORIG x3000\n",
    "\n",
    "ADD R0, R0, xC\n",
    "ADD R1, R1, xA\n",
    "LEA R6, Divide\n",
    "LD R2, PUSH_IND1\n",
    "JSRR R2         ; R0 / R1\n",
    "LD R2, QUOTIENT\n",
    "\n",
    "HALT\n",
    "\n",
    "Top:    .FILL Stack\n",
    "Stack:  .BLKW #100\n",
    "\n",
    "PUSH:   LD R5, Top\n",
    "        STR R0, R5, #0      ;; Save R0 to Stack\n",
    "        ADD R5, R5, #1      ;; Increment Stack\n",
    "        STR R1, R5, #0      ;; Save R1 to Stack\n",
    "        ADD R5, R5, #1      ;; Increment Stack\n",
    "        STR R2, R5, #0      ;; Save R2 to Stack\n",
    "        ADD R5, R5, #1      ;; Increment Stack\n",
    "        STR R3, R5, #0      ;; Save R3 to Stack\n",
    "        ADD R5, R5, #1      ;; Increment Stack\n",
    "        STR R4, R5, #0      ;; Save R4 to Stack\n",
    "        ADD R5, R5, #1      ;; Increment Stack\n",
    "        STR R6, R5, #0      ;; Save R6 to Stack\n",
    "        ADD R5, R5, #1      ;; Increment Stack\n",
    "        STR R7, R5, #0      ;; Save R7 to Stack\n",
    "        ADD R5, R5, #1      ;; Increment Stack\n",
    "        ST R5, Top\n",
    "        JMP R6\n",
    "        \n",
    "POP:    LD R5, Top\n",
    "        ADD R5, R5, #-1     ;; Decrement Stack\n",
    "        LDR R7, R5, #0      ;; Load stack into R7\n",
    "        ADD R5, R5, #-1     ;; Decrement Stack\n",
    "        LDR R6, R5, #0      ;; Load Stack into R6\n",
    "        ADD R5, R5, #-1     ;; Decrement Stack\n",
    "        LDR R4, R5, #0      ;; Load Stack into R4\n",
    "        ADD R5, R5, #-1     ;; Decrement Stack\n",
    "        LDR R3, R5, #0      ;; Load Stack into R3\n",
    "        ADD R5, R5, #-1     ;; Decrement Stack\n",
    "        LDR R2, R5, #0      ;; Load Stack into R2\n",
    "        ADD R5, R5, #-1     ;; Decrement Stack\n",
    "        LDR R1, R5, #0      ;; Load Stack into R1\n",
    "        ADD R5, R5, #-1     ;; Decrement Stack\n",
    "        LDR R0, R5, #0      ;; Load Stack into R0\n",
    "        ST R5, Top\n",
    "        RET\n",
    "        \n",
    "PUSH_IND1: .FILL PUSH\n",
    "POP_IND1: .FILL POP\n",
    "\n",
    ";;; -----------------------------------------------------\n",
    ";;; Mult_Product <- R0 * R1\n",
    ";;; Also uses R3 to store SIGN\n",
    "Multiply: AND R2,R2,#0\n",
    "  AND R3,R3,#0\n",
    "  ADD R0,R0,#0         ; compare R0\n",
    "  BRn MultNEG1\n",
    "  BR  MultCont\n",
    "MultNEG1: NOT R3,R3         ; flip SIGN\n",
    "  NOT R0,R0\n",
    "  ADD R0,R0,#1\n",
    "MultCONT: ADD R1,R1,#0         ; compare R1\n",
    "  BRn MultNEG2\n",
    "  BR MultInit\n",
    "MultNEG2: NOT R3,R3         ; flip SIGN\n",
    "  NOT R1,R1\n",
    "  ADD R1,R1,#1\n",
    "MultInit: ADD R0,R0,#0      ; have R0 set the condition codes\n",
    "MultLoop: BRz MultDone\n",
    "  ADD R2,R2,R1\n",
    "  ADD R0,R0,#-1\n",
    "  BR MultLoop\n",
    "MultDone: ADD R0,R3,#0\n",
    "  BRzp MultRet\n",
    "  NOT R2,R2\n",
    "  ADD R2,R2,#1\n",
    "MultRet:\n",
    "  ST R2, MULT_PRODUCT           ; Product has the product\n",
    "  LD R0, POP_IND1\n",
    "  JMP R0\n",
    "  \n",
    "MULT_PRODUCT: .FILL #0\n",
    "\n",
    ";;; -----------------------------------------------------\n",
    ";;; R0 / R1\n",
    ";;; Also uses R3 to store SIGN\n",
    ";;;           R4 to store -R1\n",
    ";;;           R5 is QUOTIENT\n",
    ";;;           R6 is REMAINDER\n",
    ";;;           R2 temp\n",
    "Divide:   AND R3,R3,#0\n",
    "  ST R3, QUOTIENT\n",
    "  ST R3, REMAINDER\n",
    "  ADD R0,R0,#0         ; compare R0\n",
    "  BRn DivNEG1\n",
    "  BR  DivCont\n",
    "DivNEG1:  NOT R3,R3         ; flip SIGN\n",
    "  NOT R0,R0\n",
    "  ADD R0,R0,#1\n",
    "DivCONT:  ADD R1,R1,#0         ; compare R1\n",
    "  BRn DivNEG2\n",
    "  BR DivInit\n",
    "DivNEG2:  NOT R3,R3         ; flip SIGN\n",
    "  NOT R1,R1\n",
    "  ADD R1,R1,#1\n",
    "DivInit:  ADD R4,R1,#0\n",
    "  NOT R4,R4\n",
    "  ADD R4,R4,#1\n",
    "DivLoop:  ADD R2,R0,R4      ; have R2 set the condition codes\n",
    "  BRn DivDone\n",
    "  ADD R0,R0,R4\n",
    "  LD R2,QUOTIENT\n",
    "  ADD R2,R2,#1\n",
    "  ST R2,QUOTIENT\n",
    "  BR DivLoop\n",
    "DivDone:  ADD R3,R3,#0         ; Negative?\n",
    "  BRzp DivRet\n",
    "  LD R2,QUOTIENT     ; Yes, then negate R2\n",
    "  NOT R2,R2\n",
    "  ADD R2,R2,#1\n",
    "  ST R2,QUOTIENT\n",
    "DivRet:      ST R0,REMAINDER\n",
    "  LD R0, POP_IND1\n",
    "  JMP R0\n",
    "QUOTIENT: .FILL #0\n",
    "REMAINDER: .FILL #0        \n",
    "        \n",
    ".END"
   ]
  },
  {
   "cell_type": "code",
   "execution_count": 359,
   "metadata": {},
   "outputs": [
    {
     "name": "stdout",
     "output_type": "stream",
     "text": [
      "============================================================\n",
      "Computation completed\n",
      "============================================================\n",
      "Instructions: 67\n",
      "Cycles: 497 (0.000249 milliseconds)\n",
      "\n",
      "============================================================\n",
      "Registers:\n",
      "============================================================\n",
      "PC: x048E\n",
      "N: 0 Z: 0 P: 1 \n",
      "R0: x000C R1: x000A R2: x0001 R3: x0000 \n",
      "R4: x0000 R5: x3008 R6: x30AB R7: x3007 \n"
     ]
    }
   ],
   "source": [
    "%exe"
   ]
  },
  {
   "cell_type": "code",
   "execution_count": 442,
   "metadata": {},
   "outputs": [
    {
     "name": "stdout",
     "output_type": "stream",
     "text": [
      "============================================================\n",
      "Memory disassembled:\n",
      "============================================================\n",
      "           x3064: x0000 - \\0\n",
      "           x3065: x0000 - \\0\n",
      "PUSH:      x3066: x2B9A  LD R5, TOP                                [line: 9]\n",
      "           x3067: x7140  STR R0, R5, 0                             [line: 10]\n",
      "           x3068: x1B61  ADD R5, R5, #1                            [line: 11]\n",
      "           x3069: x7340  STR R1, R5, 0                             [line: 12]\n",
      "           x306A: x1B61  ADD R5, R5, #1                            [line: 13]\n",
      "           x306B: x7540  STR R2, R5, 0                             [line: 14]\n",
      "           x306C: x1B61  ADD R5, R5, #1                            [line: 15]\n",
      "           x306D: x7740  STR R3, R5, 0                             [line: 16]\n",
      "           x306E: x1B61  ADD R5, R5, #1                            [line: 17]\n",
      "           x306F: x7940  STR R4, R5, 0                             [line: 18]\n",
      "           x3070: x1B61  ADD R5, R5, #1                            [line: 19]\n",
      "           x3071: x7D40  STR R6, R5, 0                             [line: 20]\n",
      "           x3072: x1B61  ADD R5, R5, #1                            [line: 21]\n",
      "           x3073: x7F40  STR R7, R5, 0                             [line: 22]\n",
      "           x3074: x1B61  ADD R5, R5, #1                            [line: 23]\n",
      "           x3075: x3B8B  ST R5, TOP                                [line: 24]\n",
      "           x3076: xC180  JMP R6                                    [line: 25]\n",
      "POP:       x3077: x2B89  LD R5, TOP                                [line: 27]\n",
      "           x3078: x1B7F  ADD R5, R5, #-1                           [line: 28]\n",
      "           x3079: x6F40  LDR R7, R5, 0                             [line: 29]\n",
      "           x307A: x1B7F  ADD R5, R5, #-1                           [line: 30]\n",
      "           x307B: x6D40  LDR R6, R5, 0                             [line: 31]\n",
      "           x307C: x1B7F  ADD R5, R5, #-1                           [line: 32]\n",
      "           x307D: x6940  LDR R4, R5, 0                             [line: 33]\n",
      "           x307E: x1B7F  ADD R5, R5, #-1                           [line: 34]\n",
      "           x307F: x6740  LDR R3, R5, 0                             [line: 35]\n",
      "           x3080: x1B7F  ADD R5, R5, #-1                           [line: 36]\n",
      "           x3081: x6540  LDR R2, R5, 0                             [line: 37]\n",
      "           x3082: x1B7F  ADD R5, R5, #-1                           [line: 38]\n",
      "           x3083: x6340  LDR R1, R5, 0                             [line: 39]\n",
      "           x3084: x1B7F  ADD R5, R5, #-1                           [line: 40]\n",
      "           x3085: x6140  LDR R0, R5, 0                             [line: 41]\n",
      "           x3086: x3B7A  ST R5, TOP                                [line: 42]\n",
      "           x3087: xC1C0  RET                                       [line: 43]\n",
      "ASCII_CONVERT: x3088: x202B  LD R0, CONVERT_VAL                        [line: 50]\n",
      "           x3089: x302D  ST R0, TEMPX                              [line: 51]\n",
      "           x308A: x302D  ST R0, TEMPY                              [line: 52]\n",
      "ASCII_BASE: x308B: x2229  LD R1, NEG_ONE                            [line: 57]\n",
      "           x308C: x322C  ST R1, TEMPZ                              [line: 58]\n",
      "           x308D: x1236  ADD R1, R0, #-10                          [line: 61]\n",
      "           x308E: x0605  BRzp ASCII_LOOP (or 5)                    [line: 62]\n",
      "           x308F: x2223  LD R1, ASCII_POS                          [line: 65]\n",
      "           x3090: x1001  ADD R0, R0, R1                            [line: 66]\n",
      "           x3091: xF021  OUT                                       [line: 67]\n",
      "           x3092: xF025  HALT                                      [line: 69]\n",
      "ASCII_LOOP_REP: x3093: x3424  ST R2, TEMPY                              [line: 73]\n",
      "ASCII_LOOP: x3094: x2024  LD R0, TEMPZ                              [line: 78]\n",
      "           x3095: x2220  LD R1, TEN                                [line: 79]\n",
      "           x3096: xEC25  LEA R6, MULTIPLY                          [line: 80]\n",
      "           x3097: x2422  LD R2, PUSH_IND1                          [line: 81]\n",
      "           x3098: x4080  JSRR R2                                   [line: 82]\n",
      "           x3099: x243C  LD R2, MULT_PRODUCT                       [line: 83]\n",
      "           x309A: x341E  ST R2, TEMPZ                              [line: 84]\n",
      "           x309B: x201C  LD R0, TEMPY                              [line: 87]\n",
      "           x309C: xEC3A  LEA R6, DIVIDE                            [line: 88]\n",
      "           x309D: x241C  LD R2, PUSH_IND1                          [line: 89]\n",
      "           x309E: x4080  JSRR R2                                   [line: 90]\n",
      "           x309F: x2459  LD R2, QUOTIENT                           [line: 91]\n",
      "           x30A0: x03F2  BRp ASCII_LOOP_REP                        [line: 95]\n",
      "           x30A1: x2017  LD R0, TEMPZ                              [line: 100]\n",
      "           x30A2: xEC34  LEA R6, DIVIDE                            [line: 101]\n",
      "           x30A3: x2416  LD R2, PUSH_IND1                          [line: 102]\n",
      "           x30A4: x4080  JSRR R2                                   [line: 103]\n",
      "           x30A5: x2453  LD R2, QUOTIENT                           [line: 104]\n",
      "           x30A6: x2211  LD R1, TEMPY                              [line: 107]\n",
      "           x30A7: xEC14  LEA R6, MULTIPLY                          [line: 108]\n",
      "           x30A8: x2411  LD R2, PUSH_IND1                          [line: 109]\n",
      "           x30A9: x4080  JSRR R2                                   [line: 110]\n",
      "           x30AA: x242B  LD R2, MULT_PRODUCT                       [line: 111]\n",
      "           x30AB: x2607  LD R3, ASCII_POS                          [line: 113]\n",
      "           x30AC: x1243  ADD R1, R1, R3                            [line: 114]\n",
      "           x30AD: xF221  OUT                                       [line: 115]\n",
      "           x30AE: x2008  LD R0, TEMPX                              [line: 117]\n",
      "           x30AF: x1002  ADD R0, R0, R2                            [line: 118]\n",
      "           x30B0: x3006  ST R0, TEMPX                              [line: 119]\n",
      "           x30B1: x3006  ST R0, TEMPY                              [line: 120]\n",
      "           x30B2: x0FD8  BRnzp ASCII_BASE                          [line: 122]\n",
      "ASCII_POS: x30B3: x0030  NOOP - (no BR to x30E4) (or 48, '0')      [line: 125]\n",
      "CONVERT_VAL: x30B4: x000C  NOOP - (no BR to MULTNEG1) (or 12)        [line: 126]\n",
      "NEG_ONE:   x30B5: xFFFF  ;; Invalid TRAP vector: x00FF             [line: 127]\n",
      "TEN:       x30B6: x000A  NOOP - (no BR to MULTNEG1) (or 10)        [line: 128]\n",
      "TEMPX:     x30B7: x000C  NOOP - (no BR to MULTCONT) (or 12)        [line: 129]\n",
      "TEMPY:     x30B8: x0001  NOOP - (no BR to PUSH_IND1) (or 1)        [line: 130]\n",
      "TEMPZ:     x30B9: xFF9C  ;; Invalid TRAP vector: x009C             [line: 131]\n",
      "PUSH_IND1: x30BA: x3066  ST R0, x3121                              [line: 136]\n",
      "POP_IND1:  x30BB: x3077  ST R0, x3133                              [line: 137]\n",
      "MULTIPLY:  x30BC: x54A0  AND R2, R2, #0                            [line: 142]\n",
      "           x30BD: x56E0  AND R3, R3, #0                            [line: 143]\n",
      "           x30BE: x1020  ADD R0, R0, #0                            [line: 144]\n",
      "           x30BF: x0801  BRn MULTNEG1 (or 1)                       [line: 145]\n",
      "           x30C0: x0E03  BRnzp MULTCONT (or 3)                     [line: 146]\n",
      "MULTNEG1:  x30C1: x96FF  NOT R3, R3                                [line: 147]\n",
      "           x30C2: x903F  NOT R0, R0                                [line: 148]\n",
      "           x30C3: x1021  ADD R0, R0, #1                            [line: 149]\n",
      "MULTCONT:  x30C4: x1260  ADD R1, R1, #0                            [line: 150]\n",
      "           x30C5: x0801  BRn MULTNEG2 (or 1)                       [line: 151]\n",
      "           x30C6: x0E03  BRnzp MULTINIT (or 3)                     [line: 152]\n",
      "MULTNEG2:  x30C7: x96FF  NOT R3, R3                                [line: 153]\n"
     ]
    }
   ],
   "source": [
    "%dis x3064"
   ]
  },
  {
   "cell_type": "code",
   "execution_count": null,
   "metadata": {
    "collapsed": true
   },
   "outputs": [],
   "source": []
  }
 ],
 "metadata": {
  "kernelspec": {
   "display_name": "Calysto LC3",
   "language": "asm",
   "name": "calysto_lc3"
  },
  "language_info": {
   "file_extension": ".asm",
   "mimetype": "text/x-gas",
   "name": "gas"
  }
 },
 "nbformat": 4,
 "nbformat_minor": 2
}
