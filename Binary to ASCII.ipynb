{
 "cells": [
  {
   "cell_type": "code",
   "execution_count": 66,
   "metadata": {},
   "outputs": [
    {
     "name": "stdout",
     "output_type": "stream",
     "text": [
      "Assembled! Use %dis or %dump to examine; use %exe to run.\n"
     ]
    }
   ],
   "source": [
    ".ORIG x3000\n",
    "\n",
    "    BRnzp ASCII_CONVERT\n",
    "    \n",
    ";; ------------------------------------------------------------------\n",
    ";; Setup for the stack \n",
    "Top:    .FILL Stack\n",
    "Stack:  .BLKW #100\n",
    "\n",
    "PUSH:   LD R5, Top\n",
    "        STR R0, R5, #0      ;; Save R0 to Stack\n",
    "        ADD R5, R5, #1      ;; Increment Stack\n",
    "        STR R1, R5, #0      ;; Save R1 to Stack\n",
    "        ADD R5, R5, #1      ;; Increment Stack\n",
    "        STR R2, R5, #0      ;; Save R2 to Stack\n",
    "        ADD R5, R5, #1      ;; Increment Stack\n",
    "        STR R3, R5, #0      ;; Save R3 to Stack\n",
    "        ADD R5, R5, #1      ;; Increment Stack\n",
    "        STR R4, R5, #0      ;; Save R4 to Stack\n",
    "        ADD R5, R5, #1      ;; Increment Stack\n",
    "        STR R6, R5, #0      ;; Save R6 to Stack\n",
    "        ADD R5, R5, #1      ;; Increment Stack\n",
    "        STR R7, R5, #0      ;; Save R7 to Stack\n",
    "        ADD R5, R5, #1      ;; Increment Stack\n",
    "        ST R5, Top\n",
    "        JMP R6\n",
    "        \n",
    "POP:    LD R5, Top\n",
    "        ADD R5, R5, #-1     ;; Decrement Stack\n",
    "        LDR R7, R5, #0      ;; Load stack into R7\n",
    "        ADD R5, R5, #-1     ;; Decrement Stack\n",
    "        LDR R6, R5, #0      ;; Load Stack into R6\n",
    "        ADD R5, R5, #-1     ;; Decrement Stack\n",
    "        LDR R4, R5, #0      ;; Load Stack into R4\n",
    "        ADD R5, R5, #-1     ;; Decrement Stack\n",
    "        LDR R3, R5, #0      ;; Load Stack into R3\n",
    "        ADD R5, R5, #-1     ;; Decrement Stack\n",
    "        LDR R2, R5, #0      ;; Load Stack into R2\n",
    "        ADD R5, R5, #-1     ;; Decrement Stack\n",
    "        LDR R1, R5, #0      ;; Load Stack into R1\n",
    "        ADD R5, R5, #-1     ;; Decrement Stack\n",
    "        LDR R0, R5, #0      ;; Load Stack into R0\n",
    "        ST R5, Top\n",
    "        RET\n",
    "\n",
    ";; ------------------------------------------------------------------\n",
    "\n",
    ";; Subroutine to convert binary value into ASCII decimal and print.\n",
    "\n",
    "ASCII_CONVERT:\n",
    "    LD R0, CONVERT_VAL\n",
    "    ST R0, TEMPX\n",
    "    ST R0, TEMPY\n",
    "    \n",
    "ASCII_BASE: ;; Base case: if val < #10, add x30 and print\n",
    "    ADD R1, R0, #-10\n",
    "    BRzp ASCII_LOOP ;; if val >= #10, skip to main loop\n",
    "    \n",
    "    LD R1, ASCII_POS\n",
    "    ADD R0, R0, R1\n",
    "    OUT R0\n",
    "    HALT\n",
    "    \n",
    "ASCII_LOOP: ;; Non-base case\n",
    "    \n",
    "    LD R0, TEMPZ ;; R0 <- z\n",
    "    LD R1, TEN ;; R1 <- 10\n",
    "    LEA R6, Multiply\n",
    "    LD R2, PUSH_IND1\n",
    "    JSRR R2         ; R0 * R1\n",
    "    LD R2, MULT_PRODUCT  ; R2 <- R0 * R1 = z*10\n",
    "    ST R2, TEMPZ\n",
    "    \n",
    "    LD R0, TEMPY ;; R0 <- y\n",
    "    LEA R6, Divide\n",
    "    LD R2, PUSH_IND1\n",
    "    JSRR R2         ; R0 / R1\n",
    "    LD R2, QUOTIENT  ; R2 <- R0 / R1 = y/10\n",
    "    \n",
    "    BRp ASCII_LOOP ;; if quotient is positive, repeat loop\n",
    "    \n",
    "    ;; else if quotient is zero, use PREVIOUS quotient (current val of TEMPY) as y\n",
    "    \n",
    "    \n",
    "    BRnzp ASCII_BASE ;; return to ASCII_BASE to check for base case\n",
    "    \n",
    "    \n",
    "ASCII_POS:   .FILL x30\n",
    "CONVERT_VAL:   .FILL #2 ;; value to be converted\n",
    "ONE:   .FILL #1\n",
    "TEN:   .FILL #10\n",
    "TEMPX:   .FILL #0\n",
    "TEMPY:   .FILL #0\n",
    "TEMPZ:   .FILL #1\n",
    "\n",
    ";;-----------------------------------------------------------------\n",
    ";; Signposts to PUSH and POP\n",
    "\n",
    "PUSH_IND1: .FILL PUSH\n",
    "POP_IND1: .FILL POP\n",
    "\n",
    ";;; -----------------------------------------------------\n",
    ";;; Mult_Product <- R0 * R1\n",
    ";;; Also uses R3 to store SIGN\n",
    "Multiply: AND R2,R2,#0\n",
    "  AND R3,R3,#0\n",
    "  ADD R0,R0,#0         ; compare R0\n",
    "  BRn MultNEG1\n",
    "  BR  MultCont\n",
    "MultNEG1: NOT R3,R3         ; flip SIGN\n",
    "  NOT R0,R0\n",
    "  ADD R0,R0,#1\n",
    "MultCONT: ADD R1,R1,#0         ; compare R1\n",
    "  BRn MultNEG2\n",
    "  BR MultInit\n",
    "MultNEG2: NOT R3,R3         ; flip SIGN\n",
    "  NOT R1,R1\n",
    "  ADD R1,R1,#1\n",
    "MultInit: ADD R0,R0,#0      ; have R0 set the condition codes\n",
    "MultLoop: BRz MultDone\n",
    "  ADD R2,R2,R1\n",
    "  ADD R0,R0,#-1\n",
    "  BR MultLoop\n",
    "MultDone: ADD R0,R3,#0\n",
    "  BRzp MultRet\n",
    "  NOT R2,R2\n",
    "  ADD R2,R2,#1\n",
    "MultRet:\n",
    "  ST R2, MULT_PRODUCT           ; Product has the product\n",
    "  LD R0, POP_IND1\n",
    "  JMP R0\n",
    "  \n",
    "MULT_PRODUCT: .FILL #0\n",
    "\n",
    ";;; -----------------------------------------------------\n",
    ";;; R0 / R1\n",
    ";;; Also uses R3 to store SIGN\n",
    ";;;           R4 to store -R1\n",
    ";;;           R5 is QUOTIENT\n",
    ";;;           R6 is REMAINDER\n",
    ";;;           R2 temp\n",
    "Divide:   AND R3,R3,#0\n",
    "  ST R3, QUOTIENT\n",
    "  ST R3, REMAINDER\n",
    "  ADD R0,R0,#0         ; compare R0\n",
    "  BRn DivNEG1\n",
    "  BR  DivCont\n",
    "DivNEG1:  NOT R3,R3         ; flip SIGN\n",
    "  NOT R0,R0\n",
    "  ADD R0,R0,#1\n",
    "DivCONT:  ADD R1,R1,#0         ; compare R1\n",
    "  BRn DivNEG2\n",
    "  BR DivInit\n",
    "DivNEG2:  NOT R3,R3         ; flip SIGN\n",
    "  NOT R1,R1\n",
    "  ADD R1,R1,#1\n",
    "DivInit:  ADD R4,R1,#0\n",
    "  NOT R4,R4\n",
    "  ADD R4,R4,#1\n",
    "DivLoop:  ADD R2,R0,R4      ; have R2 set the condition codes\n",
    "  BRn DivDone\n",
    "  ADD R0,R0,R4\n",
    "  LD R2,QUOTIENT\n",
    "  ADD R2,R2,#1\n",
    "  ST R2,QUOTIENT\n",
    "  BR DivLoop\n",
    "DivDone:  ADD R3,R3,#0         ; Negative?\n",
    "  BRzp DivRet\n",
    "  LD R2,QUOTIENT     ; Yes, then negate R2\n",
    "  NOT R2,R2\n",
    "  ADD R2,R2,#1\n",
    "  ST R2,QUOTIENT\n",
    "DivRet:      ST R0,REMAINDER\n",
    "  LD R0, POP_IND1\n",
    "  JMP R0\n",
    "QUOTIENT: .FILL #0\n",
    "REMAINDER: .FILL #0\n",
    "\n",
    ".END"
   ]
  },
  {
   "cell_type": "code",
   "execution_count": 71,
   "metadata": {},
   "outputs": [
    {
     "name": "stdout",
     "output_type": "stream",
     "text": [
      "============================================================\n",
      "Computation completed\n",
      "============================================================\n",
      "Instructions: 2\n",
      "Cycles: 19 (0.000010 milliseconds)\n",
      "\n",
      "============================================================\n",
      "Registers:\n",
      "============================================================\n",
      "PC: x048E\n",
      "N: 1 Z: 0 P: 0 \n",
      "R0: xFFFD R1: x0000 R2: x0000 R3: x0000 \n",
      "R4: x0000 R5: x0000 R6: x0000 R7: x3002 \n"
     ]
    }
   ],
   "source": [
    "%exe"
   ]
  },
  {
   "cell_type": "code",
   "execution_count": 51,
   "metadata": {},
   "outputs": [
    {
     "name": "stdout",
     "output_type": "stream",
     "text": [
      "\n",
      "============================================================\n",
      "Registers:\n",
      "============================================================\n",
      "PC: x3000\n",
      "N: 0 Z: 1 P: 0 \n",
      "R0: x0032 R1: x003A R2: x0000 R3: x0000 \n",
      "R4: x0000 R5: x3002 R6: x30B4 R7: x3094 \n"
     ]
    }
   ],
   "source": [
    "%pc x3000"
   ]
  },
  {
   "cell_type": "code",
   "execution_count": 65,
   "metadata": {},
   "outputs": [
    {
     "name": "stdout",
     "output_type": "stream",
     "text": [
      "============================================================\n",
      "Stepping...  => read, <= write, (Instructions/Cycles):\n",
      "============================================================\n",
      "    PC <= x308F\n",
      "(14/114) ADD R1, R1, #10 [60] (x308F*: x126A)\n",
      "    R1 <= x003A\n",
      "    NZP <= (0, 0, 1)\n",
      "\n",
      "============================================================\n",
      "Registers:\n",
      "============================================================\n",
      "PC: x308F\n",
      "N: 0 Z: 0 P: 1 \n",
      "R0: x0032 R1: x003A R2: x0000 R3: x0000 \n",
      "R4: x0000 R5: x3002 R6: x30B4 R7: x308E \n"
     ]
    }
   ],
   "source": [
    "%step"
   ]
  },
  {
   "cell_type": "code",
   "execution_count": null,
   "metadata": {
    "collapsed": true
   },
   "outputs": [],
   "source": []
  },
  {
   "cell_type": "code",
   "execution_count": 74,
   "metadata": {},
   "outputs": [
    {
     "name": "stdout",
     "output_type": "stream",
     "text": [
      "Assembled! Use %dis or %dump to examine; use %exe to run.\n"
     ]
    }
   ],
   "source": [
    ".ORIG x3000\n",
    "\n",
    "ADD R0, R0, #-3\n",
    "ADD R1, R1, #2\n",
    "ST R0, DATA\n",
    "\n",
    "HALT\n",
    "\n",
    "DATA: .FILL #-3\n",
    "\n",
    ".END"
   ]
  },
  {
   "cell_type": "code",
   "execution_count": 75,
   "metadata": {},
   "outputs": [
    {
     "name": "stdout",
     "output_type": "stream",
     "text": [
      "============================================================\n",
      "Computation completed\n",
      "============================================================\n",
      "Instructions: 4\n",
      "Cycles: 30 (0.000015 milliseconds)\n",
      "\n",
      "============================================================\n",
      "Registers:\n",
      "============================================================\n",
      "PC: x048E\n",
      "N: 0 Z: 0 P: 1 \n",
      "R0: xFFFD R1: x0002 R2: x0000 R3: x0000 \n",
      "R4: x0000 R5: x0000 R6: x0000 R7: x3004 \n"
     ]
    }
   ],
   "source": [
    "%exe"
   ]
  },
  {
   "cell_type": "code",
   "execution_count": null,
   "metadata": {
    "collapsed": true
   },
   "outputs": [],
   "source": []
  }
 ],
 "metadata": {
  "kernelspec": {
   "display_name": "Calysto LC3",
   "language": "asm",
   "name": "calysto_lc3"
  },
  "language_info": {
   "file_extension": ".asm",
   "mimetype": "text/x-gas",
   "name": "gas"
  }
 },
 "nbformat": 4,
 "nbformat_minor": 2
}
