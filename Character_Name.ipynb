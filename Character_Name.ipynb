{
 "cells": [
  {
   "cell_type": "markdown",
   "metadata": {},
   "source": [
    "\"Room\" where user can input character name. See bottom code cell for a version with storage. It's not very pretty, but it should work. We might want to make the character length shorter, but we can figure that out later."
   ]
  },
  {
   "cell_type": "markdown",
   "metadata": {},
   "source": [
    "attempt 1) can easily get and print out multiple character strings"
   ]
  },
  {
   "cell_type": "code",
   "execution_count": 1,
   "metadata": {},
   "outputs": [
    {
     "name": "stdout",
     "output_type": "stream",
     "text": [
      "Assembled! Use %dis or %dump to examine; use %exe to run.\n"
     ]
    }
   ],
   "source": [
    ".ORIG x3000   \n",
    "\n",
    "NAMING: GETC ;; get input, value gets stored in R0\n",
    "        PUTC ;; print input\n",
    "\n",
    "HALT\n",
    "\n",
    ".END"
   ]
  },
  {
   "cell_type": "code",
   "execution_count": 2,
   "metadata": {},
   "outputs": [
    {
     "name": "stdout",
     "output_type": "stream",
     "text": [
      "name\n",
      "============================================================\n",
      "Computation completed\n",
      "============================================================\n",
      "Instructions: 6\n",
      "Cycles: 54 (0.000027 milliseconds)\n",
      "\n",
      "============================================================\n",
      "Registers:\n",
      "============================================================\n",
      "PC: x048E\n",
      "N: 0 Z: 0 P: 1 \n",
      "R0: x006E R1: x0000 R2: x0000 R3: x0000 \n",
      "R4: x0000 R5: x0000 R6: x0000 R7: x3002 \n"
     ]
    }
   ],
   "source": [
    "%exe"
   ]
  },
  {
   "cell_type": "markdown",
   "metadata": {},
   "source": [
    "attempt 2) get, store, and print multiple character string\n",
    "\n",
    "able to input multiple characters, but only store one"
   ]
  },
  {
   "cell_type": "code",
   "execution_count": 134,
   "metadata": {},
   "outputs": [
    {
     "name": "stdout",
     "output_type": "stream",
     "text": [
      "Assembled! Use %dis or %dump to examine; use %exe to run.\n"
     ]
    }
   ],
   "source": [
    ".ORIG x3100   \n",
    "\n",
    "LEA R1, NAME ;; load R1 with .BLKW\n",
    "\n",
    "NAMING: GETC ;; get input, value gets stored in R0\n",
    "        STR R0, R1, #0 ;; load R0 into first .BLKW location\n",
    "        ADD R1, R1, #1 ;; go to next .BLKW location\n",
    "        BR FIN\n",
    "\n",
    "FIN: LEA R0, NAME\n",
    "     PUTS\n",
    "\n",
    "HALT\n",
    "\n",
    "NAME: .BLKW #10\n",
    "\n",
    ".END"
   ]
  },
  {
   "cell_type": "code",
   "execution_count": 135,
   "metadata": {},
   "outputs": [
    {
     "name": "stdout",
     "output_type": "stream",
     "text": [
      "orange\n",
      "============================================================\n",
      "Computation completed\n",
      "============================================================\n",
      "Instructions: 8\n",
      "Cycles: 70 (0.000035 milliseconds)\n",
      "\n",
      "============================================================\n",
      "Registers:\n",
      "============================================================\n",
      "PC: x048E\n",
      "N: 0 Z: 0 P: 1 \n",
      "R0: x006F R1: x3104 R2: x0000 R3: x0000 \n",
      "R4: x0000 R5: x0000 R6: x0000 R7: x3104 \n"
     ]
    }
   ],
   "source": [
    "%exe"
   ]
  },
  {
   "cell_type": "markdown",
   "metadata": {},
   "source": [
    "attempt 3) messing around with getting storage to work\n",
    "\n",
    "using IN seems to be best, since the user can type the entire name in the first box, have each character stored in the open slots, then hitting return lets remaining slots be left blank"
   ]
  },
  {
   "cell_type": "code",
   "execution_count": 4,
   "metadata": {},
   "outputs": [
    {
     "name": "stdout",
     "output_type": "stream",
     "text": [
      "Assembled! Use %dis or %dump to examine; use %exe to run.\n"
     ]
    }
   ],
   "source": [
    ".ORIG x3100   \n",
    "\n",
    ";;name room\n",
    "\n",
    ";;prints room description, sets up for running NAMING\n",
    "NAME_SETUP: LEA R0, ROOM_INFO ;; load R0 w/string stored in ROOM_INFO\n",
    "            PUTSP ;; print ROOM_INFO\n",
    "            LEA R1, NAME ;; load R1 with NAME starting location\n",
    "            ADD R2, R2, #8 ;; set R2 to the number of input characters allowed\n",
    "            AND R3, R3, #0 ;; set R3 = 0\n",
    "            STI R3, R1, #9 ;; store R3 in NAME+9\n",
    "\n",
    ";; asks user to input a character 10 times and stores characters to print later\n",
    "NAMING: GETC ;; get input, value gets stored in R0\n",
    "        STR R0, R1, #0 ;; load R0 into first .BLKW location\n",
    "        ADD R1, R1, #1 ;; go to next .BLKW location\n",
    "        ADD R2, R2, #-1 ;; decrement R2\n",
    "        BRp NAMING ;; if R2 is positive, repeat NAMING to get next character\n",
    "        BRnz FIN ;; if R2 is 0, go to FIN to print out name\n",
    "\n",
    "FIN: LEA R0, NAME\n",
    "     PUTS\n",
    "\n",
    "HALT\n",
    "\n",
    "NAME: .BLKW #10\n",
    "ROOM_INFO: .STRINGC \"Give your character a name! Type a name for your character in the box, then hit return to finish.\\n\"\n",
    "\n",
    ".END"
   ]
  },
  {
   "cell_type": "code",
   "execution_count": 5,
   "metadata": {},
   "outputs": [
    {
     "name": "stdout",
     "output_type": "stream",
     "text": [
      "Give your character a name! Type a name for your character in the box, then hit return to finish.\n",
      "Ruby\n",
      "\n",
      "\n",
      "\n",
      "Ruby============================================================\n",
      "Computation completed\n",
      "============================================================\n",
      "Instructions: 3846\n",
      "Cycles: 25908 (0.012954 milliseconds)\n",
      "\n",
      "============================================================\n",
      "Registers:\n",
      "============================================================\n",
      "PC: x048E\n",
      "N: 0 Z: 0 P: 1 \n",
      "R0: x310F R1: x3117 R2: x0000 R3: x0000 \n",
      "R4: x0000 R5: x0000 R6: x0000 R7: x310F \n"
     ]
    }
   ],
   "source": [
    "%exe"
   ]
  },
  {
   "cell_type": "code",
   "execution_count": 6,
   "metadata": {},
   "outputs": [
    {
     "name": "stdout",
     "output_type": "stream",
     "text": [
      "============================================================\n",
      "Memory disassembled:\n",
      "============================================================\n",
      "NAME_SETUP: x3100: xE018  LEA R0, ROOM_INFO                         [line: 5]\n",
      "           x3101: xF024  PUTSP                                     [line: 6]\n",
      "           x3102: xE20C  LEA R1, NAME                              [line: 7]\n",
      "           x3103: x14A8  ADD R2, R2, #8                            [line: 8]\n",
      "           x3104: x56E0  AND R3, R3, #0                            [line: 9]\n",
      "           x3105: xB649  STI R3, x314F                             [line: 10]\n",
      "NAMING:    x3106: xF020  GETC                                      [line: 13]\n",
      "           x3107: x7040  STR R0, R1, 0                             [line: 14]\n",
      "           x3108: x1261  ADD R1, R1, #1                            [line: 15]\n",
      "           x3109: x14BF  ADD R2, R2, #-1                           [line: 16]\n",
      "           x310A: x03FB  BRp NAMING                                [line: 17]\n",
      "           x310B: x0C00  BRnz FIN (or 0)                           [line: 18]\n",
      "FIN:       x310C: xE002  LEA R0, NAME                              [line: 20]\n",
      "           x310D: xF022  PUTS                                      [line: 21]\n",
      "           x310E: xF025  HALT                                      [line: 23]\n",
      "NAME:      x310F: x0052  NOOP - (no BR to x3162) (or 82, 'R')      [line: 25]\n",
      "           x3110: x0075 - 117 (or 117, 'u')\n",
      "           x3111: x0062 - 98 (or 98, 'b')\n",
      "           x3112: x0079 - 121 (or 121, 'y')\n",
      "           x3113: x0000 - \\0\n",
      "           x3114: x0000 - \\0\n",
      "           x3115: x0000 - \\0\n",
      "           x3116: x0000 - \\0\n",
      "           x3117: x0000 - \\0\n",
      "           x3118: x0000 - \\0\n",
      "ROOM_INFO: x3119: x6947  LDR R4, R5, 7                             [line: 26]\n",
      "           x311A: x6576 - 25974 \n",
      "           x311B: x7920 - 31008 \n",
      "           x311C: x756F - 30063 \n",
      "           x311D: x2072 - 8306 \n",
      "           x311E: x6863 - 26723 \n",
      "           x311F: x7261 - 29281 \n",
      "           x3120: x6361 - 25441 \n",
      "           x3121: x6574 - 25972 \n",
      "           x3122: x2072 - 8306 \n",
      "           x3123: x2061 - 8289 \n",
      "           x3124: x616E - 24942 \n",
      "           x3125: x656D - 25965 \n",
      "           x3126: x2021 - 8225 \n",
      "           x3127: x7954 - 31060 \n",
      "           x3128: x6570 - 25968 \n",
      "           x3129: x6120 - 24864 \n",
      "           x312A: x6E20 - 28192 \n",
      "           x312B: x6D61 - 28001 \n",
      "           x312C: x2065 - 8293 \n",
      "           x312D: x6F66 - 28518 \n",
      "           x312E: x2072 - 8306 \n",
      "           x312F: x6F79 - 28537 \n",
      "           x3130: x7275 - 29301 \n",
      "           x3131: x6320 - 25376 \n",
      "           x3132: x6168 - 24936 \n",
      "           x3133: x6172 - 24946 \n",
      "           x3134: x7463 - 29795 \n",
      "           x3135: x7265 - 29285 \n",
      "           x3136: x6920 - 26912 \n",
      "           x3137: x206E - 8302 \n",
      "           x3138: x6874 - 26740 \n",
      "           x3139: x2065 - 8293 \n",
      "           x313A: x6F62 - 28514 \n",
      "           x313B: x2C78 - 11384 \n",
      "           x313C: x7420 - 29728 \n",
      "           x313D: x6568 - 25960 \n",
      "           x313E: x206E - 8302 \n",
      "           x313F: x6968 - 26984 \n",
      "           x3140: x2074 - 8308 \n",
      "           x3141: x6572 - 25970 \n",
      "           x3142: x7574 - 30068 \n",
      "           x3143: x6E72 - 28274 \n",
      "           x3144: x7420 - 29728 \n",
      "           x3145: x206F - 8303 \n",
      "           x3146: x6966 - 26982 \n",
      "           x3147: x696E - 26990 \n",
      "           x3148: x6873 - 26739 \n",
      "           x3149: x0A2E - 2606 \n",
      "           x314A: x0000 - \\0\n",
      "           x314B: x0000  NOOP - (no BR to x314C) (or 0)            [line: 27]\n"
     ]
    }
   ],
   "source": [
    "%dis"
   ]
  },
  {
   "cell_type": "code",
   "execution_count": 230,
   "metadata": {},
   "outputs": [
    {
     "name": "stdout",
     "output_type": "stream",
     "text": [
      "Assembled! Use %dis or %dump to examine; use %exe to run.\n"
     ]
    }
   ],
   "source": [
    ".ORIG x3100   \n",
    "\n",
    ";;name room\n",
    "\n",
    ";;prints room description, sets up for running NAMING\n",
    "NAME_SETUP: LEA R0, ROOM_INFO ;; load R0 w/string stored in ROOM_INFO\n",
    "            PUTSP ;; print ROOM_INFO\n",
    "            LEA R1, NAME ;; load R1 with NAME starting location\n",
    "            LD R2, MAX_LEN\n",
    "\n",
    "NAMING: GETC ;; get input, value stored in R0\n",
    "        STR R0, R1, #0\n",
    "        ADD R1, R1, #1\n",
    "        ADD R0, R0, #0\n",
    "        BRz FIN ;; if character is zero terminator, done\n",
    "        ADD R2, R2, #-1\n",
    "        BRz FULL ;; if we're out of space, done\n",
    "        BRnzp NAMING\n",
    "\n",
    "FULL: ADD R1, R1, #-1\n",
    "      AND R2, R2, #0\n",
    "      STR R2, R1, #0\n",
    "\n",
    "FIN: LEA R0, NAME\n",
    "     PUTS\n",
    "\n",
    "HALT\n",
    "\n",
    "NAME: .BLKW #10\n",
    "MAX_LEN: .FILL #10\n",
    "ROOM_INFO: .STRINGC \"Give your character a name! Type a name for your character in the box, then hit return to finish.\\n\"\n",
    "\n",
    ".END"
   ]
  },
  {
   "cell_type": "code",
   "execution_count": 236,
   "metadata": {},
   "outputs": [
    {
     "name": "stdout",
     "output_type": "stream",
     "text": [
      "Give your character a name! Type a name for your character in the box, then hit return to finish.\n",
      "Abcdefghij\n",
      "Abcdefghi============================================================\n",
      "Computation completed\n",
      "============================================================\n",
      "Instructions: 3948\n",
      "Cycles: 26685 (0.013343 milliseconds)\n",
      "\n",
      "============================================================\n",
      "Registers:\n",
      "============================================================\n",
      "PC: x048E\n",
      "N: 0 Z: 0 P: 1 \n",
      "R0: x3112 R1: x311B R2: x0000 R3: x0000 \n",
      "R4: x0000 R5: x0000 R6: x0000 R7: x3112 \n"
     ]
    }
   ],
   "source": [
    "%exe"
   ]
  },
  {
   "cell_type": "code",
   "execution_count": 224,
   "metadata": {},
   "outputs": [
    {
     "name": "stdout",
     "output_type": "stream",
     "text": [
      "============================================================\n",
      "Stepping...  => read, <= write, (Instructions/Cycles):\n",
      "============================================================\n",
      "    PC <= x310C\n",
      "(3726/24923) ADD R1, R1, #-1 [18] (x310C*: x127F)\n",
      "    R1 <= x3111\n",
      "    NZP <= (0, 0, 1)\n",
      "\n",
      "============================================================\n",
      "Registers:\n",
      "============================================================\n",
      "PC: x310C\n",
      "N: 0 Z: 0 P: 1 \n",
      "R0: x0052 R1: x3111 R2: x0009 R3: x0000 \n",
      "R4: x0000 R5: x0000 R6: x0000 R7: x3105 \n"
     ]
    }
   ],
   "source": [
    "%step"
   ]
  },
  {
   "cell_type": "code",
   "execution_count": 232,
   "metadata": {},
   "outputs": [
    {
     "name": "stdout",
     "output_type": "stream",
     "text": [
      "============================================================\n",
      "Memory disassembled:\n",
      "============================================================\n",
      "NAME_SETUP: x3100: xE01C  LEA R0, ROOM_INFO                         [line: 5]\n",
      "           x3101: xF024  PUTSP                                     [line: 6]\n",
      "           x3102: xE20F  LEA R1, NAME                              [line: 7]\n",
      "           x3103: x2418  LD R2, MAX_LEN                            [line: 8]\n",
      "NAMING:    x3104: xF020  GETC                                      [line: 10]\n",
      "           x3105: x7040  STR R0, R1, 0                             [line: 11]\n",
      "           x3106: x1261  ADD R1, R1, #1                            [line: 12]\n",
      "           x3107: x1020  ADD R0, R0, #0                            [line: 13]\n",
      "           x3108: x0406  BRz FIN (or 6)                            [line: 14]\n",
      "           x3109: x14BF  ADD R2, R2, #-1                           [line: 15]\n",
      "           x310A: x0401  BRz FULL (or 1)                           [line: 16]\n",
      "           x310B: x0FF8  BRnzp NAMING                              [line: 17]\n",
      "FULL:      x310C: x127F  ADD R1, R1, #-1                           [line: 19]\n",
      "           x310D: x54A0  AND R2, R2, #0                            [line: 20]\n",
      "           x310E: x7440  STR R2, R1, 0                             [line: 21]\n",
      "FIN:       x310F: xE002  LEA R0, NAME                              [line: 23]\n",
      "           x3110: xF022  PUTS                                      [line: 24]\n",
      "           x3111: xF025  HALT                                      [line: 26]\n",
      "NAME:      x3112: x0052  NOOP - (no BR to x3165) (or 82, 'R')      [line: 28]\n",
      "           x3113: x0075 - 117 (or 117, 'u')\n",
      "           x3114: x0062 - 98 (or 98, 'b')\n",
      "           x3115: x0079 - 121 (or 121, 'y')\n",
      "           x3116: x0066 - 102 (or 102, 'f')\n",
      "           x3117: x0064 - 100 (or 100, 'd')\n",
      "           x3118: x006A - 106 (or 106, 'j')\n",
      "           x3119: x0067 - 103 (or 103, 'g')\n",
      "           x311A: x0064 - 100 (or 100, 'd')\n",
      "           x311B: x0000 - \\0\n",
      "MAX_LEN:   x311C: x000A  NOOP - (no BR to x3127) (or 10)           [line: 29]\n",
      "ROOM_INFO: x311D: x6947  LDR R4, R5, 7                             [line: 30]\n",
      "           x311E: x6576 - 25974 \n",
      "           x311F: x7920 - 31008 \n",
      "           x3120: x756F - 30063 \n",
      "           x3121: x2072 - 8306 \n",
      "           x3122: x6863 - 26723 \n",
      "           x3123: x7261 - 29281 \n",
      "           x3124: x6361 - 25441 \n",
      "           x3125: x6574 - 25972 \n",
      "           x3126: x2072 - 8306 \n",
      "           x3127: x2061 - 8289 \n",
      "           x3128: x616E - 24942 \n",
      "           x3129: x656D - 25965 \n",
      "           x312A: x2021 - 8225 \n",
      "           x312B: x7954 - 31060 \n",
      "           x312C: x6570 - 25968 \n",
      "           x312D: x6120 - 24864 \n",
      "           x312E: x6E20 - 28192 \n",
      "           x312F: x6D61 - 28001 \n",
      "           x3130: x2065 - 8293 \n",
      "           x3131: x6F66 - 28518 \n",
      "           x3132: x2072 - 8306 \n",
      "           x3133: x6F79 - 28537 \n",
      "           x3134: x7275 - 29301 \n",
      "           x3135: x6320 - 25376 \n",
      "           x3136: x6168 - 24936 \n",
      "           x3137: x6172 - 24946 \n",
      "           x3138: x7463 - 29795 \n",
      "           x3139: x7265 - 29285 \n",
      "           x313A: x6920 - 26912 \n",
      "           x313B: x206E - 8302 \n",
      "           x313C: x6874 - 26740 \n",
      "           x313D: x2065 - 8293 \n",
      "           x313E: x6F62 - 28514 \n",
      "           x313F: x2C78 - 11384 \n",
      "           x3140: x7420 - 29728 \n",
      "           x3141: x6568 - 25960 \n",
      "           x3142: x206E - 8302 \n",
      "           x3143: x6968 - 26984 \n",
      "           x3144: x2074 - 8308 \n",
      "           x3145: x6572 - 25970 \n",
      "           x3146: x7574 - 30068 \n",
      "           x3147: x6E72 - 28274 \n",
      "           x3148: x7420 - 29728 \n",
      "           x3149: x206F - 8303 \n",
      "           x314A: x6966 - 26982 \n",
      "           x314B: x696E - 26990 \n",
      "           x314C: x6873 - 26739 \n",
      "           x314D: x0A2E - 2606 \n",
      "           x314E: x0000 - \\0\n",
      "           x314F: x0000  NOOP - (no BR to x3150) (or 0)            [line: 31]\n"
     ]
    }
   ],
   "source": [
    "%dis"
   ]
  },
  {
   "cell_type": "code",
   "execution_count": null,
   "metadata": {
    "collapsed": true
   },
   "outputs": [],
   "source": []
  }
 ],
 "metadata": {
  "kernelspec": {
   "display_name": "Calysto LC3",
   "language": "asm",
   "name": "calysto_lc3"
  },
  "language_info": {
   "file_extension": ".asm",
   "mimetype": "text/x-gas",
   "name": "gas"
  }
 },
 "nbformat": 4,
 "nbformat_minor": 2
}
