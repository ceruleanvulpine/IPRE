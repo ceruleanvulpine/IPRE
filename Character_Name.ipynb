{
 "cells": [
  {
   "cell_type": "markdown",
   "metadata": {},
   "source": [
    "\"Room\" where user can input character name. See bottom code cell for a version with storage. It's not very pretty, but it should work. We might want to make the character length shorter, but we can figure that out later."
   ]
  },
  {
   "cell_type": "markdown",
   "metadata": {},
   "source": [
    "attempt 1) can easily get and print out multiple character strings"
   ]
  },
  {
   "cell_type": "code",
   "execution_count": 23,
   "metadata": {},
   "outputs": [
    {
     "name": "stdout",
     "output_type": "stream",
     "text": [
      "Assembled! Use %dis or %dump to examine; use %exe to run.\n"
     ]
    }
   ],
   "source": [
    ".ORIG x3000   \n",
    "\n",
    "NAMING: GETC ;; get input, value gets stored in R0\n",
    "        PUTC ;; print input\n",
    "\n",
    "HALT\n",
    "\n",
    ".END"
   ]
  },
  {
   "cell_type": "code",
   "execution_count": 24,
   "metadata": {},
   "outputs": [
    {
     "name": "stdout",
     "output_type": "stream",
     "text": [
      "name\n",
      "============================================================\n",
      "Computation completed\n",
      "============================================================\n",
      "Instructions: 6\n",
      "Cycles: 54 (0.000027 milliseconds)\n",
      "\n",
      "============================================================\n",
      "Registers:\n",
      "============================================================\n",
      "PC: x048E\n",
      "N: 0 Z: 0 P: 1 \n",
      "R0: x006E R1: x0000 R2: x0000 R3: x0000 \n",
      "R4: x0000 R5: x0000 R6: x0000 R7: x3002 \n"
     ]
    }
   ],
   "source": [
    "%exe"
   ]
  },
  {
   "cell_type": "markdown",
   "metadata": {},
   "source": [
    "attempt 2) get, store, and print multiple character string\n",
    "\n",
    "able to input multiple characters, but only store one"
   ]
  },
  {
   "cell_type": "code",
   "execution_count": 134,
   "metadata": {},
   "outputs": [
    {
     "name": "stdout",
     "output_type": "stream",
     "text": [
      "Assembled! Use %dis or %dump to examine; use %exe to run.\n"
     ]
    }
   ],
   "source": [
    ".ORIG x3100   \n",
    "\n",
    "LEA R1, NAME ;; load R1 with .BLKW\n",
    "\n",
    "NAMING: GETC ;; get input, value gets stored in R0\n",
    "        STR R0, R1, #0 ;; load R0 into first .BLKW location\n",
    "        ADD R1, R1, #1 ;; go to next .BLKW location\n",
    "        BR FIN\n",
    "\n",
    "FIN: LEA R0, NAME\n",
    "     PUTS\n",
    "\n",
    "HALT\n",
    "\n",
    "NAME: .BLKW #10\n",
    "\n",
    ".END"
   ]
  },
  {
   "cell_type": "code",
   "execution_count": 135,
   "metadata": {},
   "outputs": [
    {
     "name": "stdout",
     "output_type": "stream",
     "text": [
      "orange\n",
      "============================================================\n",
      "Computation completed\n",
      "============================================================\n",
      "Instructions: 8\n",
      "Cycles: 70 (0.000035 milliseconds)\n",
      "\n",
      "============================================================\n",
      "Registers:\n",
      "============================================================\n",
      "PC: x048E\n",
      "N: 0 Z: 0 P: 1 \n",
      "R0: x006F R1: x3104 R2: x0000 R3: x0000 \n",
      "R4: x0000 R5: x0000 R6: x0000 R7: x3104 \n"
     ]
    }
   ],
   "source": [
    "%exe"
   ]
  },
  {
   "cell_type": "markdown",
   "metadata": {},
   "source": [
    "attempt 3) messing around with getting storage to work\n",
    "\n",
    "using IN seems to be best, since the user can type the entire name in the first box, have each character stored in the open slots, then hitting return lets remaining slots be left blank"
   ]
  },
  {
   "cell_type": "code",
   "execution_count": 161,
   "metadata": {},
   "outputs": [
    {
     "name": "stdout",
     "output_type": "stream",
     "text": [
      "Assembled! Use %dis or %dump to examine; use %exe to run.\n"
     ]
    }
   ],
   "source": [
    ".ORIG x3100   \n",
    "\n",
    ";;name room\n",
    "\n",
    ";;prints room description, sets up for running NAMING\n",
    "NAME_SETUP: LEA R0, ROOM_INFO ;; load R0 w/string stored in ROOM_INFO\n",
    "            PUTSP ;; print ROOM_INFO\n",
    "            LEA R1, NAME ;; load R1 with NAME starting location\n",
    "            ADD R2, R2, #10 ;; set R2 to the number of input characters allowed (currently 10)\n",
    "\n",
    ";; asks user to input a character 10 times and stores characters to print later\n",
    "NAMING: IN ;; get input, value gets stored in R0\n",
    "        STR R0, R1, #0 ;; load R0 into first .BLKW location\n",
    "        ADD R1, R1, #1 ;; go to next .BLKW location\n",
    "        ADD R2, R2, #-1 ;; decrement R2\n",
    "        BRp NAMING ;; if R2 is positive, repeat NAMING to get next character\n",
    "        BRnzp FIN ;; if R2 is 0, go to FIN to print out name\n",
    "\n",
    "FIN: LEA R0, NAME\n",
    "     PUTS\n",
    "\n",
    "HALT\n",
    "\n",
    "NAME: .BLKW #10\n",
    "ROOM_INFO: .STRINGC \"Give your character a name! Type a name for your character in the box, then hit return to finish.\"\n",
    "\n",
    ".END"
   ]
  },
  {
   "cell_type": "code",
   "execution_count": 162,
   "metadata": {},
   "outputs": [
    {
     "name": "stdout",
     "output_type": "stream",
     "text": [
      "Give your character a name! Type a name for your character in the box, then hit return to finish.\n",
      "Input a character> job\n",
      "j\n",
      "\n",
      "Input a character> o\n",
      "\n",
      "Input a character> b\n",
      "\n",
      "Input a character> \u0000\n",
      "\n",
      "Input a character> \n",
      "\u0000\n",
      "\n",
      "Input a character> \n",
      "\u0000\n",
      "\n",
      "Input a character> \n",
      "\u0000\n",
      "\n",
      "Input a character> \n",
      "\u0000\n",
      "\n",
      "Input a character> \n",
      "\u0000\n",
      "\n",
      "Input a character> \n",
      "\u0000\n",
      "job============================================================\n",
      "Computation completed\n",
      "============================================================\n",
      "Instructions: 6376\n",
      "Cycles: 46946 (0.023473 milliseconds)\n",
      "\n",
      "============================================================\n",
      "Registers:\n",
      "============================================================\n",
      "PC: x048E\n",
      "N: 0 Z: 0 P: 1 \n",
      "R0: x310D R1: x3117 R2: x0000 R3: x0000 \n",
      "R4: x0000 R5: x0000 R6: x0000 R7: x310D \n"
     ]
    }
   ],
   "source": [
    "%exe"
   ]
  },
  {
   "cell_type": "code",
   "execution_count": null,
   "metadata": {
    "collapsed": true
   },
   "outputs": [],
   "source": []
  }
 ],
 "metadata": {
  "kernelspec": {
   "display_name": "Calysto LC3",
   "language": "asm",
   "name": "calysto_lc3"
  },
  "language_info": {
   "file_extension": ".asm",
   "mimetype": "text/x-gas",
   "name": "gas"
  }
 },
 "nbformat": 4,
 "nbformat_minor": 2
}
