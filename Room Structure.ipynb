{
 "cells": [
  {
   "cell_type": "markdown",
   "metadata": {},
   "source": [
    "To store the information for a \"room\" (/point in the story), we need to store\n",
    "1. Name/description/options (text)\n",
    "2. Number of outcomes (?) \n",
    "3. Location of room ~structs where those outcomes lead\n",
    "\n",
    "What about randomness?\n",
    "- There could be two types of room, one w/user input outcomes and one w/dice-based outcomes\n",
    "- So regular room:\n",
    "    * Name/description/options (text) (some fixed length, input with .STRINGC) (or: not a fixed length, but have a variable for length so you know how far to jump to get to the other information?) (this could be last so that the long length of the string doesn't cause problems?)\n",
    "    * Variable indicating non-random\n",
    "    * Number of outcomes (unless fixed?) (less than or equal to 3 maybe?)\n",
    "    *  - Address of room where outcome 1 sends you\n",
    "       - Outcome 2\n",
    "       - Outcome 3 ..\n",
    "- And random room:\n",
    "     * Name/description/options (text)\n",
    "     * Variable indicating random\n",
    "     * Number of outcomes/check difficulty? (Do we want mixed successes or just success/failure?)\n",
    "     * Addresses to which these outcomes send you\n",
    "- Then we would need another variable for whether a room is dice-based\n",
    "- And what stat it uses\n",
    "- What actual dice do we want? What is the range of stats? What are the ranges of the checks? What are the stats?\n"
   ]
  },
  {
   "cell_type": "code",
   "execution_count": 9,
   "metadata": {},
   "outputs": [
    {
     "name": "stdout",
     "output_type": "stream",
     "text": [
      "Assembled! Use %dis or %dump to examine; use %exe to run.\n"
     ]
    }
   ],
   "source": [
    ".ORIG 3000\n",
    "LEA R0, TEST_ROOM\n",
    "ADD R0, R0, 1\n",
    "PUTSP\n",
    "HALT\n",
    "\n",
    "TEST_ROOM: \n",
    "    .FILL #92 ;; Length of description string\n",
    "    .STRINGC \"Here we are in an example room. Enter 1 to jump in place, 2 to do a jumping jack, or 3 to spin in a circle\\n\"\n",
    "    .FILL #0 ;; Nonrandom?\n",
    "    .FILL TEST_ROOM  ;; All outcomes send you back here\n",
    "    .FILL TEST_ROOM\n",
    "    .FILL TEST_ROOM "
   ]
  },
  {
   "cell_type": "code",
   "execution_count": 10,
   "metadata": {},
   "outputs": [
    {
     "name": "stdout",
     "output_type": "stream",
     "text": [
      "Here we are in an example room. Enter 1 to jump in place, 2 to do a jumping jack, or 3 to spin in a circle\n",
      "============================================================\n",
      "Computation completed\n",
      "============================================================\n",
      "Instructions: 4067\n",
      "Cycles: 27175 (0.013588 milliseconds)\n",
      "\n",
      "============================================================\n",
      "Registers:\n",
      "============================================================\n",
      "PC: x048E\n",
      "N: 0 Z: 0 P: 1 \n",
      "R0: x0BBD R1: x0000 R2: x0000 R3: x0000 \n",
      "R4: x0000 R5: x0000 R6: x0000 R7: x0BBC \n"
     ]
    }
   ],
   "source": [
    "%exe"
   ]
  },
  {
   "cell_type": "code",
   "execution_count": null,
   "metadata": {
    "collapsed": true
   },
   "outputs": [],
   "source": []
  }
 ],
 "metadata": {
  "kernelspec": {
   "display_name": "Calysto LC3",
   "language": "asm",
   "name": "calysto_lc3"
  },
  "language_info": {
   "file_extension": ".asm",
   "mimetype": "text/x-gas",
   "name": "gas"
  }
 },
 "nbformat": 4,
 "nbformat_minor": 2
}
