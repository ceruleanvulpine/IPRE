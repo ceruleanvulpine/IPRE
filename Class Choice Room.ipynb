{
 "cells": [
  {
   "cell_type": "code",
   "execution_count": 11,
   "metadata": {},
   "outputs": [
    {
     "name": "stdout",
     "output_type": "stream",
     "text": [
      "Assembled! Use %dis or %dump to examine; use %exe to run.\n"
     ]
    }
   ],
   "source": [
    ";; Room where user chooses their class year\n",
    ";; Needs four choices and does not follow main game loop\n",
    ";; Based off code in Printing_text (NOT Room Structure Demo)\n",
    "\n",
    ".ORIG x3000\n",
    "\n",
    "START:    LEA R0, TEXT ;; loads & prints room text\n",
    "          PUTS\n",
    "          IN ;; gets user input\n",
    "          JSR CHOICE\n",
    "\n",
    "          HALT\n",
    "\n",
    ";; Subroutine for parsing input\n",
    ";; Convert the ASCII value in R0 to actual hex value by subtracting 30\n",
    ";; Subtract 2 from the result\n",
    ";; 1-2 = -1 so if result is negative, the user input 1\n",
    ";; 2-2 = 0 so if result is zero, the user input 2\n",
    ";; 3-2 = 1 so if result is positive, the user input 3 or 4\n",
    "CHOICE:   \n",
    "          LD R1, ASCII     ;; Load inverted ASCII conversion constant into R0\n",
    "          ADD R0, R0, R1   ;; Add it to convert ASCII value into a number\n",
    "          ADD R0, R0, #-2\n",
    "          BRn CH1 ;; user chose 1\n",
    "          BRz CH2 ;; user chose 2\n",
    "          BRp CH34 ;; user chose 3 or 4\n",
    "          \n",
    "CH1:      LEA R0, TEXT1\n",
    "          ST R7, SAVE_R7\n",
    "          PUTS\n",
    "          LD R7, SAVE_R7\n",
    "          RET\n",
    "CH2:      LEA R0, TEXT2\n",
    "          ST R7, SAVE_R7\n",
    "          PUTS\n",
    "          LD R7, SAVE_R7\n",
    "          RET\n",
    "CH34:     ADD R0, R0, #-2\n",
    "          BRn CH3 ;; user chose 3\n",
    "          BRzp CH4 ;; user chose 4\n",
    "CH3:      LEA R0, TEXT3\n",
    "          ST R7, SAVE_R7\n",
    "          PUTS\n",
    "          LD R7, SAVE_R7\n",
    "          RET\n",
    "CH4:      LEA R0, TEXT4\n",
    "          ST R7, SAVE_R7\n",
    "          PUTS\n",
    "          LD R7, SAVE_R7\n",
    "          RET\n",
    "\n",
    ";; To save R7 so PUTS doesn't overwrite return path\n",
    "SAVE_R7: .FILL #0\n",
    "\n",
    ";; Data\n",
    "ASCII:   .FILL x-30\n",
    "CLASS:   .FILL #0\n",
    "TEXT1:   .STRINGZ \"You are a freshman! +2 Vitality\\n\"\n",
    "TEXT2:   .STRINGZ \"You are a sophomore! +1 Vitality, +1 Charisma\\n\"\n",
    "TEXT3:   .STRINGZ \"You are a junior! +1 Charisma, +1 Wisdom\\n\"\n",
    "TEXT4:   .STRINGZ \"You are a senior! +2 Wisdom\\n\"\n",
    "TEXT:    .STRINGZ \"It's the start of a new day at Bryn Mawr College! What class year are you?\\nIn order to choose a year, input the number next to your choice. (Note that if you input an invalid option, it will be interpreted as one of the given options.)\\n1  Be a freshman.\\n2  Be a sophomore.\\n3  Be a junior.\\n4  Be a senior.\\n\" \n",
    "\n",
    ".END"
   ]
  },
  {
   "cell_type": "code",
   "execution_count": 12,
   "metadata": {},
   "outputs": [
    {
     "name": "stdout",
     "output_type": "stream",
     "text": [
      "It's the start of a new day at Bryn Mawr College! What class year are you?\n",
      "In order to choose a year, input the number next to your choice. (Note that if you input an invalid option, it will be interpreted as one of the given options.)\n",
      "1  Be a freshman.\n",
      "2  Be a sophomore.\n",
      "3  Be a junior.\n",
      "4  Be a senior.\n",
      "\n",
      "Input a character> 0\n",
      "0\n",
      "You are a freshman! +2 Vitality\n",
      "============================================================\n",
      "Computation completed\n",
      "============================================================\n",
      "Instructions: 3999\n",
      "Cycles: 33091 (0.016546 milliseconds)\n",
      "\n",
      "============================================================\n",
      "Registers:\n",
      "============================================================\n",
      "PC: x048E\n",
      "N: 0 Z: 0 P: 1 \n",
      "R0: x3025 R1: xFFD0 R2: x0000 R3: x0000 \n",
      "R4: x0000 R5: x0000 R6: x0000 R7: x3005 \n"
     ]
    }
   ],
   "source": [
    "%exe"
   ]
  },
  {
   "cell_type": "code",
   "execution_count": null,
   "metadata": {
    "collapsed": true
   },
   "outputs": [],
   "source": []
  },
  {
   "cell_type": "code",
   "execution_count": null,
   "metadata": {
    "collapsed": true
   },
   "outputs": [],
   "source": []
  }
 ],
 "metadata": {
  "kernelspec": {
   "display_name": "Calysto LC3",
   "language": "asm",
   "name": "calysto_lc3"
  },
  "language_info": {
   "file_extension": ".asm",
   "mimetype": "text/x-gas",
   "name": "gas"
  }
 },
 "nbformat": 4,
 "nbformat_minor": 2
}
